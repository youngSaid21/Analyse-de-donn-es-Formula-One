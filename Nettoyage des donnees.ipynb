{
 "cells": [
  {
   "cell_type": "markdown",
   "id": "4d907cac-778a-4a65-b601-ecc05426421c",
   "metadata": {},
   "source": [
    "# Nettoyage des données de Formula 1"
   ]
  },
  {
   "cell_type": "markdown",
   "id": "a699fa35-1b80-435b-969a-52a54b0f4b0b",
   "metadata": {},
   "source": [
    "## 1. Objectifs du Notebook\n",
    "Ce notebook a pour objectif principal de préparer les données de Formula 1 en vue d’analyses approfondies. Le dataset couvre une période allant de 1950 à 2024, incluant divers aspects tels que les circuits, les pilotes, les classements, les résultats, et bien plus. Pour garantir la fiabilité des analyses, plusieurs tâches de nettoyage des données seront effectuées :\n",
    "\n",
    "#### Validation des types de données :\n",
    "\n",
    "- Vérifier que chaque colonne utilise un type de données approprié (numérique, catégoriel, etc.).\n",
    "\n",
    "\n",
    "#### Identification et gestion des valeurs manquantes :\n",
    "\n",
    "- Repérer les colonnes ou lignes contenant des données manquantes et appliquer des stratégies adaptées (suppression ou imputation).\n",
    "  \n",
    "#### Traitement des doublons :\n",
    "\n",
    "- Vérifier l’existence de doublons dans les fichiers et les éliminer pour éviter les biais dans les analyses.\n",
    "\n",
    "#### Gestion des incohérences :\n",
    "\n",
    "- Identifier et corriger les éventuelles incohérences dans les données (par exemple, une valeur qui sort du bon intervalle).\n",
    "\n",
    "Le but final est de produire un jeu de données propre, structuré et prêt pour des analyses exploratoires ou la construction de modèles de machine learning."
   ]
  },
  {
   "cell_type": "markdown",
   "id": "2877d3f4-0457-4d1f-be2b-f31cd3f6c3c2",
   "metadata": {},
   "source": [
    "## 2. Importation des packages"
   ]
  },
  {
   "cell_type": "code",
   "execution_count": 2,
   "id": "0f7af4ca-01ee-4cf4-b9d8-d875087460bc",
   "metadata": {},
   "outputs": [],
   "source": [
    "import pandas as pd"
   ]
  },
  {
   "cell_type": "markdown",
   "id": "31ac7ad0-50dd-4020-859c-f7ca846fe6d7",
   "metadata": {},
   "source": [
    "## 3. Chargement des données\n",
    "\n",
    "Pour analyser l'impact de la météo sur les performances des pilotes en Formule 1, plusieurs fichiers de données sont utilisés, chacun apportant des informations complémentaires :\n",
    "\n",
    "- Weather(2018 - 2024).csv : Contient les données météorologiques pour chaque course, incluant des variables telles que la température, les précipitations et les conditions générales (pluie, soleil, etc.). C’est le fichier central pour l’analyse météo.\n",
    "- races.csv : Fournit des informations contextuelles sur chaque course (lieu, date, etc.), nécessaires pour associer les données météo aux performances des pilotes.\n",
    "- drivers.csv : Liste les pilotes, permettant d’identifier et d’évaluer leurs performances individuelles.\n",
    "- results.csv : Contient les résultats détaillés des courses, notamment les positions finales, les points, les meilleurs tours, et les abandons, qui serviront à mesurer les impacts de la météo.\n",
    "- lap_times.csv : Fournit des données détaillées sur les temps au tour, utiles pour analyser comment les conditions météo influencent la régularité et la vitesse.\n",
    "- status.csv : Donne des informations sur les statuts des pilotes à la fin des courses (abandon, accident, etc.), souvent affectés par la météo."
   ]
  },
  {
   "cell_type": "code",
   "execution_count": 23,
   "id": "54f869db-c61c-4658-b53c-f4b9ea7b0943",
   "metadata": {},
   "outputs": [
    {
     "name": "stdout",
     "output_type": "stream",
     "text": [
      "Dimensions de 'meteo' : (21859, 10)\n",
      "Dimensions de 'courses' : (1125, 18)\n",
      "Dimensions de 'pilotes' : (859, 9)\n",
      "Dimensions de 'resultats' : (26519, 18)\n",
      "Dimensions de 'laps_times' : (575029, 6)\n",
      "Dimensions de 'status' : (139, 2)\n"
     ]
    }
   ],
   "source": [
    "# Chargement des données \n",
    "meteo = pd.read_csv('Data/Weather(2018 - 2024).csv')\n",
    "courses = pd.read_csv('Data/races.csv')\n",
    "pilotes = pd.read_csv('Data/drivers.csv')\n",
    "resultat = pd.read_csv('Data/results.csv')\n",
    "laps_times = pd.read_csv('Data/lap_times.csv')\n",
    "status = pd.read_csv('Data/status.csv')\n",
    "\n",
    "# Afficher les dimensions de chaque dataset\n",
    "print(\"Dimensions de 'meteo' :\", meteo.shape)\n",
    "print(\"Dimensions de 'courses' :\", courses.shape)\n",
    "print(\"Dimensions de 'pilotes' :\", pilotes.shape)\n",
    "print(\"Dimensions de 'resultats' :\", resultat.shape)\n",
    "print(\"Dimensions de 'laps_times' :\", laps_times.shape)\n",
    "print(\"Dimensions de 'status' :\", status.shape)"
   ]
  },
  {
   "cell_type": "markdown",
   "id": "1d560b6b-a7bb-406c-90a1-f791cdfbe5f7",
   "metadata": {},
   "source": [
    "## 4. Nettoyage de la base de données Météo"
   ]
  },
  {
   "cell_type": "code",
   "execution_count": 3,
   "id": "6d0b7c78-c7f1-4172-a4ba-c0c652ab95b6",
   "metadata": {},
   "outputs": [
    {
     "data": {
      "text/html": [
       "<div>\n",
       "<style scoped>\n",
       "    .dataframe tbody tr th:only-of-type {\n",
       "        vertical-align: middle;\n",
       "    }\n",
       "\n",
       "    .dataframe tbody tr th {\n",
       "        vertical-align: top;\n",
       "    }\n",
       "\n",
       "    .dataframe thead th {\n",
       "        text-align: right;\n",
       "    }\n",
       "</style>\n",
       "<table border=\"1\" class=\"dataframe\">\n",
       "  <thead>\n",
       "    <tr style=\"text-align: right;\">\n",
       "      <th></th>\n",
       "      <th>Time</th>\n",
       "      <th>AirTemp</th>\n",
       "      <th>Humidity</th>\n",
       "      <th>Pressure</th>\n",
       "      <th>Rainfall</th>\n",
       "      <th>TrackTemp</th>\n",
       "      <th>WindDirection</th>\n",
       "      <th>WindSpeed</th>\n",
       "      <th>Round Number</th>\n",
       "      <th>Year</th>\n",
       "    </tr>\n",
       "  </thead>\n",
       "  <tbody>\n",
       "    <tr>\n",
       "      <th>21854</th>\n",
       "      <td>0 days 02:23:57.512000</td>\n",
       "      <td>25.9</td>\n",
       "      <td>60.0</td>\n",
       "      <td>1018.0</td>\n",
       "      <td>False</td>\n",
       "      <td>29.3</td>\n",
       "      <td>122</td>\n",
       "      <td>2.6</td>\n",
       "      <td>24</td>\n",
       "      <td>2024</td>\n",
       "    </tr>\n",
       "    <tr>\n",
       "      <th>21855</th>\n",
       "      <td>0 days 02:24:57.504000</td>\n",
       "      <td>25.9</td>\n",
       "      <td>60.0</td>\n",
       "      <td>1018.0</td>\n",
       "      <td>False</td>\n",
       "      <td>29.4</td>\n",
       "      <td>84</td>\n",
       "      <td>2.4</td>\n",
       "      <td>24</td>\n",
       "      <td>2024</td>\n",
       "    </tr>\n",
       "    <tr>\n",
       "      <th>21856</th>\n",
       "      <td>0 days 02:25:57.504000</td>\n",
       "      <td>25.8</td>\n",
       "      <td>60.0</td>\n",
       "      <td>1018.0</td>\n",
       "      <td>False</td>\n",
       "      <td>29.4</td>\n",
       "      <td>34</td>\n",
       "      <td>1.2</td>\n",
       "      <td>24</td>\n",
       "      <td>2024</td>\n",
       "    </tr>\n",
       "    <tr>\n",
       "      <th>21857</th>\n",
       "      <td>0 days 02:26:57.518000</td>\n",
       "      <td>25.8</td>\n",
       "      <td>60.0</td>\n",
       "      <td>1018.0</td>\n",
       "      <td>False</td>\n",
       "      <td>29.1</td>\n",
       "      <td>116</td>\n",
       "      <td>1.2</td>\n",
       "      <td>24</td>\n",
       "      <td>2024</td>\n",
       "    </tr>\n",
       "    <tr>\n",
       "      <th>21858</th>\n",
       "      <td>0 days 02:27:57.568000</td>\n",
       "      <td>25.8</td>\n",
       "      <td>60.0</td>\n",
       "      <td>1018.0</td>\n",
       "      <td>False</td>\n",
       "      <td>29.1</td>\n",
       "      <td>116</td>\n",
       "      <td>1.2</td>\n",
       "      <td>24</td>\n",
       "      <td>2024</td>\n",
       "    </tr>\n",
       "  </tbody>\n",
       "</table>\n",
       "</div>"
      ],
      "text/plain": [
       "                         Time  AirTemp  Humidity  Pressure  Rainfall  \\\n",
       "21854  0 days 02:23:57.512000     25.9      60.0    1018.0     False   \n",
       "21855  0 days 02:24:57.504000     25.9      60.0    1018.0     False   \n",
       "21856  0 days 02:25:57.504000     25.8      60.0    1018.0     False   \n",
       "21857  0 days 02:26:57.518000     25.8      60.0    1018.0     False   \n",
       "21858  0 days 02:27:57.568000     25.8      60.0    1018.0     False   \n",
       "\n",
       "       TrackTemp  WindDirection  WindSpeed  Round Number  Year  \n",
       "21854       29.3            122        2.6            24  2024  \n",
       "21855       29.4             84        2.4            24  2024  \n",
       "21856       29.4             34        1.2            24  2024  \n",
       "21857       29.1            116        1.2            24  2024  \n",
       "21858       29.1            116        1.2            24  2024  "
      ]
     },
     "execution_count": 3,
     "metadata": {},
     "output_type": "execute_result"
    }
   ],
   "source": [
    "## Affichages des 5 premières lignes\n",
    "meteo.tail(5)"
   ]
  },
  {
   "cell_type": "code",
   "execution_count": 4,
   "id": "1edcefda-848a-49d9-9f78-fa282b739021",
   "metadata": {
    "scrolled": true
   },
   "outputs": [
    {
     "name": "stdout",
     "output_type": "stream",
     "text": [
      "<class 'pandas.core.frame.DataFrame'>\n",
      "RangeIndex: 21859 entries, 0 to 21858\n",
      "Data columns (total 10 columns):\n",
      " #   Column         Non-Null Count  Dtype  \n",
      "---  ------         --------------  -----  \n",
      " 0   Time           21859 non-null  object \n",
      " 1   AirTemp        21859 non-null  float64\n",
      " 2   Humidity       21859 non-null  float64\n",
      " 3   Pressure       21859 non-null  float64\n",
      " 4   Rainfall       21859 non-null  bool   \n",
      " 5   TrackTemp      21859 non-null  float64\n",
      " 6   WindDirection  21859 non-null  int64  \n",
      " 7   WindSpeed      21859 non-null  float64\n",
      " 8   Round Number   21859 non-null  int64  \n",
      " 9   Year           21859 non-null  int64  \n",
      "dtypes: bool(1), float64(5), int64(3), object(1)\n",
      "memory usage: 1.5+ MB\n"
     ]
    }
   ],
   "source": [
    "## Vérification des types des données\n",
    "meteo.info()"
   ]
  },
  {
   "cell_type": "markdown",
   "id": "01a05970-09bd-4432-a319-05310a74e4c1",
   "metadata": {},
   "source": [
    "### Vérification des données manquantes"
   ]
  },
  {
   "cell_type": "code",
   "execution_count": 5,
   "id": "b6ffabac-f7a7-4a52-a0f8-68e69329cb1f",
   "metadata": {},
   "outputs": [
    {
     "name": "stdout",
     "output_type": "stream",
     "text": [
      "La base de données Météo ne contient pas des valeurs manquantes\n"
     ]
    }
   ],
   "source": [
    "# Fonction qui vérifie s'il y a des valeurs manquantes dans un dataset\n",
    "def check_missing_values(df, dataset_name=\"Dataset\"):\n",
    "    if df.isnull().sum().sum() == 0 :\n",
    "        print(f'La base de données {dataset_name} ne contient pas des valeurs manquantes')\n",
    "    else:\n",
    "        print(f'La base de données {dataset_name} contient {df.isnull().sum().sum()} valeur(s) manquante(s)')\n",
    "\n",
    "check_missing_values(meteo, 'Météo')"
   ]
  },
  {
   "cell_type": "markdown",
   "id": "264a2492-038a-495e-a27c-e6f7379be0c7",
   "metadata": {},
   "source": [
    "### Vérification des doublons"
   ]
  },
  {
   "cell_type": "code",
   "execution_count": 6,
   "id": "6d6f9302-ed21-449a-b401-f8a22740b74d",
   "metadata": {},
   "outputs": [
    {
     "name": "stdout",
     "output_type": "stream",
     "text": [
      "Météo contient 481 doublon(s).\n"
     ]
    }
   ],
   "source": [
    "# Fonction qui vérifie s'il y a des doublons dans un dataset\n",
    "def check_duplicates(df, dataset_name=\"Dataset\"):\n",
    "    duplicates = df.duplicated().sum()  # Compter le nombre de doublons\n",
    "    if duplicates > 0:\n",
    "        print(f\"{dataset_name} contient {duplicates} doublon(s).\")\n",
    "    else:\n",
    "        print(f\"{dataset_name} ne contient pas de doublons.\")\n",
    "\n",
    "check_duplicates(meteo, 'Météo')"
   ]
  },
  {
   "cell_type": "code",
   "execution_count": 7,
   "id": "147b4b74-8dc0-42e6-9ee5-eabef9705b8c",
   "metadata": {},
   "outputs": [],
   "source": [
    "# Suppression des doublons\n",
    "def remove_duplicates(df):\n",
    "    return df.drop_duplicates()\n",
    "\n",
    "meteo_cleaned = remove_duplicates(meteo)"
   ]
  },
  {
   "cell_type": "code",
   "execution_count": 8,
   "id": "89d3f424-af0d-493a-ba4b-efbff1de5d45",
   "metadata": {},
   "outputs": [
    {
     "name": "stdout",
     "output_type": "stream",
     "text": [
      "Météo ne contient pas de doublons.\n"
     ]
    }
   ],
   "source": [
    "# Vérification des la suppression des doublons\n",
    "check_duplicates(meteo_cleaned, 'Météo')"
   ]
  },
  {
   "cell_type": "markdown",
   "id": "156496a7-edd8-4866-a612-3e5757602f49",
   "metadata": {},
   "source": [
    "### Vérification des intervalles pour les colonnes numériques"
   ]
  },
  {
   "cell_type": "code",
   "execution_count": 9,
   "id": "f083c3d1-6b22-48ad-a8c8-79076c52d7b7",
   "metadata": {},
   "outputs": [
    {
     "data": {
      "text/html": [
       "<div>\n",
       "<style scoped>\n",
       "    .dataframe tbody tr th:only-of-type {\n",
       "        vertical-align: middle;\n",
       "    }\n",
       "\n",
       "    .dataframe tbody tr th {\n",
       "        vertical-align: top;\n",
       "    }\n",
       "\n",
       "    .dataframe thead th {\n",
       "        text-align: right;\n",
       "    }\n",
       "</style>\n",
       "<table border=\"1\" class=\"dataframe\">\n",
       "  <thead>\n",
       "    <tr style=\"text-align: right;\">\n",
       "      <th></th>\n",
       "      <th>AirTemp</th>\n",
       "      <th>Humidity</th>\n",
       "      <th>Pressure</th>\n",
       "      <th>TrackTemp</th>\n",
       "      <th>WindDirection</th>\n",
       "      <th>WindSpeed</th>\n",
       "      <th>Round Number</th>\n",
       "      <th>Year</th>\n",
       "    </tr>\n",
       "  </thead>\n",
       "  <tbody>\n",
       "    <tr>\n",
       "      <th>count</th>\n",
       "      <td>21378.000000</td>\n",
       "      <td>21378.000000</td>\n",
       "      <td>21378.000000</td>\n",
       "      <td>21378.000000</td>\n",
       "      <td>21378.000000</td>\n",
       "      <td>21378.000000</td>\n",
       "      <td>21378.000000</td>\n",
       "      <td>21378.000000</td>\n",
       "    </tr>\n",
       "    <tr>\n",
       "      <th>mean</th>\n",
       "      <td>23.471181</td>\n",
       "      <td>54.709664</td>\n",
       "      <td>986.793068</td>\n",
       "      <td>35.224815</td>\n",
       "      <td>173.404107</td>\n",
       "      <td>1.637702</td>\n",
       "      <td>11.524652</td>\n",
       "      <td>2021.365656</td>\n",
       "    </tr>\n",
       "    <tr>\n",
       "      <th>std</th>\n",
       "      <td>4.988278</td>\n",
       "      <td>17.379909</td>\n",
       "      <td>50.957704</td>\n",
       "      <td>9.251853</td>\n",
       "      <td>104.043864</td>\n",
       "      <td>1.148441</td>\n",
       "      <td>6.302429</td>\n",
       "      <td>1.964110</td>\n",
       "    </tr>\n",
       "    <tr>\n",
       "      <th>min</th>\n",
       "      <td>8.900000</td>\n",
       "      <td>5.000000</td>\n",
       "      <td>778.500000</td>\n",
       "      <td>13.800000</td>\n",
       "      <td>0.000000</td>\n",
       "      <td>0.000000</td>\n",
       "      <td>1.000000</td>\n",
       "      <td>2018.000000</td>\n",
       "    </tr>\n",
       "    <tr>\n",
       "      <th>25%</th>\n",
       "      <td>20.000000</td>\n",
       "      <td>42.000000</td>\n",
       "      <td>986.200000</td>\n",
       "      <td>29.000000</td>\n",
       "      <td>95.000000</td>\n",
       "      <td>0.800000</td>\n",
       "      <td>6.000000</td>\n",
       "      <td>2020.000000</td>\n",
       "    </tr>\n",
       "    <tr>\n",
       "      <th>50%</th>\n",
       "      <td>23.200000</td>\n",
       "      <td>55.000000</td>\n",
       "      <td>1006.600000</td>\n",
       "      <td>34.800000</td>\n",
       "      <td>170.000000</td>\n",
       "      <td>1.400000</td>\n",
       "      <td>12.000000</td>\n",
       "      <td>2022.000000</td>\n",
       "    </tr>\n",
       "    <tr>\n",
       "      <th>75%</th>\n",
       "      <td>27.300000</td>\n",
       "      <td>65.775000</td>\n",
       "      <td>1013.700000</td>\n",
       "      <td>42.200000</td>\n",
       "      <td>264.000000</td>\n",
       "      <td>2.200000</td>\n",
       "      <td>17.000000</td>\n",
       "      <td>2023.000000</td>\n",
       "    </tr>\n",
       "    <tr>\n",
       "      <th>max</th>\n",
       "      <td>37.200000</td>\n",
       "      <td>97.500000</td>\n",
       "      <td>1023.500000</td>\n",
       "      <td>67.000000</td>\n",
       "      <td>359.000000</td>\n",
       "      <td>10.100000</td>\n",
       "      <td>24.000000</td>\n",
       "      <td>2024.000000</td>\n",
       "    </tr>\n",
       "  </tbody>\n",
       "</table>\n",
       "</div>"
      ],
      "text/plain": [
       "            AirTemp      Humidity      Pressure     TrackTemp  WindDirection  \\\n",
       "count  21378.000000  21378.000000  21378.000000  21378.000000   21378.000000   \n",
       "mean      23.471181     54.709664    986.793068     35.224815     173.404107   \n",
       "std        4.988278     17.379909     50.957704      9.251853     104.043864   \n",
       "min        8.900000      5.000000    778.500000     13.800000       0.000000   \n",
       "25%       20.000000     42.000000    986.200000     29.000000      95.000000   \n",
       "50%       23.200000     55.000000   1006.600000     34.800000     170.000000   \n",
       "75%       27.300000     65.775000   1013.700000     42.200000     264.000000   \n",
       "max       37.200000     97.500000   1023.500000     67.000000     359.000000   \n",
       "\n",
       "          WindSpeed  Round Number          Year  \n",
       "count  21378.000000  21378.000000  21378.000000  \n",
       "mean       1.637702     11.524652   2021.365656  \n",
       "std        1.148441      6.302429      1.964110  \n",
       "min        0.000000      1.000000   2018.000000  \n",
       "25%        0.800000      6.000000   2020.000000  \n",
       "50%        1.400000     12.000000   2022.000000  \n",
       "75%        2.200000     17.000000   2023.000000  \n",
       "max       10.100000     24.000000   2024.000000  "
      ]
     },
     "execution_count": 9,
     "metadata": {},
     "output_type": "execute_result"
    }
   ],
   "source": [
    "meteo_cleaned.describe()"
   ]
  },
  {
   "cell_type": "markdown",
   "id": "ee6dfbf7-fd91-43b5-9f4e-ea322774e655",
   "metadata": {},
   "source": [
    "Toutes les variables du dataset sont comprises dans des intervalles réalistes, à l'exception de la variable Pressure. \n",
    "\n",
    "Cette dernière présente des valeurs comprises entre 778 et 1023, ce qui est incohérent avec les observations météorologiques réelles. En effet, la pression atmosphérique la plus faible jamais enregistrée est de 879 hPa (source : https://alarmemeteo.ch/blog/la-pression-atmospherique-la-declencheuse-des-vents-et-des-tempetes.html). \n",
    "\n",
    "Par conséquent, dans la suite de ce projet, seules les pressions atmosphériques égales ou supérieures à 900 hPa seront conservées pour garantir une analyse cohérente et fiable."
   ]
  },
  {
   "cell_type": "code",
   "execution_count": 10,
   "id": "6fc09142-fe4c-4cf4-a950-3bbd14a7ce2a",
   "metadata": {},
   "outputs": [
    {
     "data": {
      "text/plain": [
       "4.336886408344389"
      ]
     },
     "execution_count": 10,
     "metadata": {},
     "output_type": "execute_result"
    }
   ],
   "source": [
    "# Proportion des meteo qui ont une pression alterieur inferieur à 950\n",
    "(meteo['Pressure'] < 900).sum() / len(meteo) * 100"
   ]
  },
  {
   "cell_type": "markdown",
   "id": "c7131ca2-3ff1-4548-8ce6-da61fc743ce2",
   "metadata": {},
   "source": [
    "Nous constatons que Environ 4% des courses ont une pression atmospherique inférieur à 900 hPa"
   ]
  },
  {
   "cell_type": "code",
   "execution_count": 11,
   "id": "e43b721c-e6e1-4272-a245-ccf147b20791",
   "metadata": {},
   "outputs": [
    {
     "data": {
      "text/html": [
       "<div>\n",
       "<style scoped>\n",
       "    .dataframe tbody tr th:only-of-type {\n",
       "        vertical-align: middle;\n",
       "    }\n",
       "\n",
       "    .dataframe tbody tr th {\n",
       "        vertical-align: top;\n",
       "    }\n",
       "\n",
       "    .dataframe thead th {\n",
       "        text-align: right;\n",
       "    }\n",
       "</style>\n",
       "<table border=\"1\" class=\"dataframe\">\n",
       "  <thead>\n",
       "    <tr style=\"text-align: right;\">\n",
       "      <th></th>\n",
       "      <th>AirTemp</th>\n",
       "      <th>Humidity</th>\n",
       "      <th>Pressure</th>\n",
       "      <th>TrackTemp</th>\n",
       "      <th>WindDirection</th>\n",
       "      <th>WindSpeed</th>\n",
       "      <th>Round Number</th>\n",
       "      <th>Year</th>\n",
       "    </tr>\n",
       "  </thead>\n",
       "  <tbody>\n",
       "    <tr>\n",
       "      <th>count</th>\n",
       "      <td>18220.000000</td>\n",
       "      <td>18220.000000</td>\n",
       "      <td>18220.000000</td>\n",
       "      <td>18220.000000</td>\n",
       "      <td>18220.000000</td>\n",
       "      <td>18220.000000</td>\n",
       "      <td>18220.000000</td>\n",
       "      <td>18220.000000</td>\n",
       "    </tr>\n",
       "    <tr>\n",
       "      <th>mean</th>\n",
       "      <td>23.661465</td>\n",
       "      <td>55.770692</td>\n",
       "      <td>1003.965368</td>\n",
       "      <td>34.556811</td>\n",
       "      <td>171.775521</td>\n",
       "      <td>1.672849</td>\n",
       "      <td>10.689133</td>\n",
       "      <td>2021.338749</td>\n",
       "    </tr>\n",
       "    <tr>\n",
       "      <th>std</th>\n",
       "      <td>5.085639</td>\n",
       "      <td>17.062601</td>\n",
       "      <td>14.715938</td>\n",
       "      <td>8.795537</td>\n",
       "      <td>105.520129</td>\n",
       "      <td>1.186057</td>\n",
       "      <td>6.047923</td>\n",
       "      <td>1.952609</td>\n",
       "    </tr>\n",
       "    <tr>\n",
       "      <th>min</th>\n",
       "      <td>9.200000</td>\n",
       "      <td>5.000000</td>\n",
       "      <td>959.900000</td>\n",
       "      <td>13.800000</td>\n",
       "      <td>0.000000</td>\n",
       "      <td>0.000000</td>\n",
       "      <td>1.000000</td>\n",
       "      <td>2018.000000</td>\n",
       "    </tr>\n",
       "    <tr>\n",
       "      <th>25%</th>\n",
       "      <td>19.700000</td>\n",
       "      <td>44.000000</td>\n",
       "      <td>995.900000</td>\n",
       "      <td>28.700000</td>\n",
       "      <td>93.000000</td>\n",
       "      <td>0.800000</td>\n",
       "      <td>5.000000</td>\n",
       "      <td>2020.000000</td>\n",
       "    </tr>\n",
       "    <tr>\n",
       "      <th>50%</th>\n",
       "      <td>24.000000</td>\n",
       "      <td>56.000000</td>\n",
       "      <td>1008.500000</td>\n",
       "      <td>34.000000</td>\n",
       "      <td>167.000000</td>\n",
       "      <td>1.400000</td>\n",
       "      <td>11.000000</td>\n",
       "      <td>2022.000000</td>\n",
       "    </tr>\n",
       "    <tr>\n",
       "      <th>75%</th>\n",
       "      <td>27.700000</td>\n",
       "      <td>66.200000</td>\n",
       "      <td>1014.900000</td>\n",
       "      <td>41.000000</td>\n",
       "      <td>263.000000</td>\n",
       "      <td>2.200000</td>\n",
       "      <td>15.000000</td>\n",
       "      <td>2023.000000</td>\n",
       "    </tr>\n",
       "    <tr>\n",
       "      <th>max</th>\n",
       "      <td>37.200000</td>\n",
       "      <td>97.500000</td>\n",
       "      <td>1023.500000</td>\n",
       "      <td>67.000000</td>\n",
       "      <td>359.000000</td>\n",
       "      <td>10.100000</td>\n",
       "      <td>24.000000</td>\n",
       "      <td>2024.000000</td>\n",
       "    </tr>\n",
       "  </tbody>\n",
       "</table>\n",
       "</div>"
      ],
      "text/plain": [
       "            AirTemp      Humidity      Pressure     TrackTemp  WindDirection  \\\n",
       "count  18220.000000  18220.000000  18220.000000  18220.000000   18220.000000   \n",
       "mean      23.661465     55.770692   1003.965368     34.556811     171.775521   \n",
       "std        5.085639     17.062601     14.715938      8.795537     105.520129   \n",
       "min        9.200000      5.000000    959.900000     13.800000       0.000000   \n",
       "25%       19.700000     44.000000    995.900000     28.700000      93.000000   \n",
       "50%       24.000000     56.000000   1008.500000     34.000000     167.000000   \n",
       "75%       27.700000     66.200000   1014.900000     41.000000     263.000000   \n",
       "max       37.200000     97.500000   1023.500000     67.000000     359.000000   \n",
       "\n",
       "          WindSpeed  Round Number          Year  \n",
       "count  18220.000000  18220.000000  18220.000000  \n",
       "mean       1.672849     10.689133   2021.338749  \n",
       "std        1.186057      6.047923      1.952609  \n",
       "min        0.000000      1.000000   2018.000000  \n",
       "25%        0.800000      5.000000   2020.000000  \n",
       "50%        1.400000     11.000000   2022.000000  \n",
       "75%        2.200000     15.000000   2023.000000  \n",
       "max       10.100000     24.000000   2024.000000  "
      ]
     },
     "execution_count": 11,
     "metadata": {},
     "output_type": "execute_result"
    }
   ],
   "source": [
    "# Suppression des valeurs de pression atmosphérique < 950\n",
    "meteo_cleaned = meteo_cleaned[meteo_cleaned['Pressure'] >= 950]\n",
    "\n",
    "# Afficher les 5 premières lignes pour vérifier\n",
    "meteo_cleaned.describe()"
   ]
  },
  {
   "cell_type": "markdown",
   "id": "3cadb80e-2f5e-4df4-868f-d4ad3311fe14",
   "metadata": {},
   "source": [
    "### Enregistrement des données nettoyés dans un fichier csv"
   ]
  },
  {
   "cell_type": "code",
   "execution_count": 10,
   "id": "308ddf0f-34be-4a63-b9fa-77be8b951cc0",
   "metadata": {},
   "outputs": [],
   "source": [
    "def dataset_to_csv(df, name):\n",
    "    df.to_csv(f'Cleaned_Data/{name}.csv', index=False)\n",
    "\n",
    "    print(f\"Les données nettoyées ont été enregistrées dans le fichier 'Cleaned_Data/{name}.csv'.\")\n",
    "\n",
    "#dataset_to_csv(meteo_cleaned, 'meteo_cleaned')"
   ]
  },
  {
   "cell_type": "markdown",
   "id": "da112070-c537-4fb6-bcd4-96c223ad26c0",
   "metadata": {},
   "source": [
    "## 5. Nettoyage de la base de données Courses"
   ]
  },
  {
   "cell_type": "markdown",
   "id": "b841866b-8657-4203-b05d-3c4c1c35d7fb",
   "metadata": {},
   "source": [
    "### 5.1 Vérification des types de données"
   ]
  },
  {
   "cell_type": "code",
   "execution_count": 13,
   "id": "08572529-6e72-4456-89b5-83173a2d3af4",
   "metadata": {},
   "outputs": [
    {
     "data": {
      "text/html": [
       "<div>\n",
       "<style scoped>\n",
       "    .dataframe tbody tr th:only-of-type {\n",
       "        vertical-align: middle;\n",
       "    }\n",
       "\n",
       "    .dataframe tbody tr th {\n",
       "        vertical-align: top;\n",
       "    }\n",
       "\n",
       "    .dataframe thead th {\n",
       "        text-align: right;\n",
       "    }\n",
       "</style>\n",
       "<table border=\"1\" class=\"dataframe\">\n",
       "  <thead>\n",
       "    <tr style=\"text-align: right;\">\n",
       "      <th></th>\n",
       "      <th>raceId</th>\n",
       "      <th>year</th>\n",
       "      <th>round</th>\n",
       "      <th>circuitId</th>\n",
       "      <th>name</th>\n",
       "      <th>date</th>\n",
       "      <th>time</th>\n",
       "      <th>url</th>\n",
       "      <th>fp1_date</th>\n",
       "      <th>fp1_time</th>\n",
       "      <th>fp2_date</th>\n",
       "      <th>fp2_time</th>\n",
       "      <th>fp3_date</th>\n",
       "      <th>fp3_time</th>\n",
       "      <th>quali_date</th>\n",
       "      <th>quali_time</th>\n",
       "      <th>sprint_date</th>\n",
       "      <th>sprint_time</th>\n",
       "    </tr>\n",
       "  </thead>\n",
       "  <tbody>\n",
       "    <tr>\n",
       "      <th>0</th>\n",
       "      <td>1</td>\n",
       "      <td>2009</td>\n",
       "      <td>1</td>\n",
       "      <td>1</td>\n",
       "      <td>Australian Grand Prix</td>\n",
       "      <td>2009-03-29</td>\n",
       "      <td>06:00:00</td>\n",
       "      <td>http://en.wikipedia.org/wiki/2009_Australian_G...</td>\n",
       "      <td>\\N</td>\n",
       "      <td>\\N</td>\n",
       "      <td>\\N</td>\n",
       "      <td>\\N</td>\n",
       "      <td>\\N</td>\n",
       "      <td>\\N</td>\n",
       "      <td>\\N</td>\n",
       "      <td>\\N</td>\n",
       "      <td>\\N</td>\n",
       "      <td>\\N</td>\n",
       "    </tr>\n",
       "    <tr>\n",
       "      <th>1</th>\n",
       "      <td>2</td>\n",
       "      <td>2009</td>\n",
       "      <td>2</td>\n",
       "      <td>2</td>\n",
       "      <td>Malaysian Grand Prix</td>\n",
       "      <td>2009-04-05</td>\n",
       "      <td>09:00:00</td>\n",
       "      <td>http://en.wikipedia.org/wiki/2009_Malaysian_Gr...</td>\n",
       "      <td>\\N</td>\n",
       "      <td>\\N</td>\n",
       "      <td>\\N</td>\n",
       "      <td>\\N</td>\n",
       "      <td>\\N</td>\n",
       "      <td>\\N</td>\n",
       "      <td>\\N</td>\n",
       "      <td>\\N</td>\n",
       "      <td>\\N</td>\n",
       "      <td>\\N</td>\n",
       "    </tr>\n",
       "    <tr>\n",
       "      <th>2</th>\n",
       "      <td>3</td>\n",
       "      <td>2009</td>\n",
       "      <td>3</td>\n",
       "      <td>17</td>\n",
       "      <td>Chinese Grand Prix</td>\n",
       "      <td>2009-04-19</td>\n",
       "      <td>07:00:00</td>\n",
       "      <td>http://en.wikipedia.org/wiki/2009_Chinese_Gran...</td>\n",
       "      <td>\\N</td>\n",
       "      <td>\\N</td>\n",
       "      <td>\\N</td>\n",
       "      <td>\\N</td>\n",
       "      <td>\\N</td>\n",
       "      <td>\\N</td>\n",
       "      <td>\\N</td>\n",
       "      <td>\\N</td>\n",
       "      <td>\\N</td>\n",
       "      <td>\\N</td>\n",
       "    </tr>\n",
       "    <tr>\n",
       "      <th>3</th>\n",
       "      <td>4</td>\n",
       "      <td>2009</td>\n",
       "      <td>4</td>\n",
       "      <td>3</td>\n",
       "      <td>Bahrain Grand Prix</td>\n",
       "      <td>2009-04-26</td>\n",
       "      <td>12:00:00</td>\n",
       "      <td>http://en.wikipedia.org/wiki/2009_Bahrain_Gran...</td>\n",
       "      <td>\\N</td>\n",
       "      <td>\\N</td>\n",
       "      <td>\\N</td>\n",
       "      <td>\\N</td>\n",
       "      <td>\\N</td>\n",
       "      <td>\\N</td>\n",
       "      <td>\\N</td>\n",
       "      <td>\\N</td>\n",
       "      <td>\\N</td>\n",
       "      <td>\\N</td>\n",
       "    </tr>\n",
       "    <tr>\n",
       "      <th>4</th>\n",
       "      <td>5</td>\n",
       "      <td>2009</td>\n",
       "      <td>5</td>\n",
       "      <td>4</td>\n",
       "      <td>Spanish Grand Prix</td>\n",
       "      <td>2009-05-10</td>\n",
       "      <td>12:00:00</td>\n",
       "      <td>http://en.wikipedia.org/wiki/2009_Spanish_Gran...</td>\n",
       "      <td>\\N</td>\n",
       "      <td>\\N</td>\n",
       "      <td>\\N</td>\n",
       "      <td>\\N</td>\n",
       "      <td>\\N</td>\n",
       "      <td>\\N</td>\n",
       "      <td>\\N</td>\n",
       "      <td>\\N</td>\n",
       "      <td>\\N</td>\n",
       "      <td>\\N</td>\n",
       "    </tr>\n",
       "  </tbody>\n",
       "</table>\n",
       "</div>"
      ],
      "text/plain": [
       "   raceId  year  round  circuitId                   name        date  \\\n",
       "0       1  2009      1          1  Australian Grand Prix  2009-03-29   \n",
       "1       2  2009      2          2   Malaysian Grand Prix  2009-04-05   \n",
       "2       3  2009      3         17     Chinese Grand Prix  2009-04-19   \n",
       "3       4  2009      4          3     Bahrain Grand Prix  2009-04-26   \n",
       "4       5  2009      5          4     Spanish Grand Prix  2009-05-10   \n",
       "\n",
       "       time                                                url fp1_date  \\\n",
       "0  06:00:00  http://en.wikipedia.org/wiki/2009_Australian_G...       \\N   \n",
       "1  09:00:00  http://en.wikipedia.org/wiki/2009_Malaysian_Gr...       \\N   \n",
       "2  07:00:00  http://en.wikipedia.org/wiki/2009_Chinese_Gran...       \\N   \n",
       "3  12:00:00  http://en.wikipedia.org/wiki/2009_Bahrain_Gran...       \\N   \n",
       "4  12:00:00  http://en.wikipedia.org/wiki/2009_Spanish_Gran...       \\N   \n",
       "\n",
       "  fp1_time fp2_date fp2_time fp3_date fp3_time quali_date quali_time  \\\n",
       "0       \\N       \\N       \\N       \\N       \\N         \\N         \\N   \n",
       "1       \\N       \\N       \\N       \\N       \\N         \\N         \\N   \n",
       "2       \\N       \\N       \\N       \\N       \\N         \\N         \\N   \n",
       "3       \\N       \\N       \\N       \\N       \\N         \\N         \\N   \n",
       "4       \\N       \\N       \\N       \\N       \\N         \\N         \\N   \n",
       "\n",
       "  sprint_date sprint_time  \n",
       "0          \\N          \\N  \n",
       "1          \\N          \\N  \n",
       "2          \\N          \\N  \n",
       "3          \\N          \\N  \n",
       "4          \\N          \\N  "
      ]
     },
     "execution_count": 13,
     "metadata": {},
     "output_type": "execute_result"
    }
   ],
   "source": [
    "# Affichage des 5 premières lignes\n",
    "courses.head(5)"
   ]
  },
  {
   "cell_type": "code",
   "execution_count": 14,
   "id": "90d2184c-607c-454a-87a7-02b67d94ba7c",
   "metadata": {},
   "outputs": [
    {
     "name": "stdout",
     "output_type": "stream",
     "text": [
      "<class 'pandas.core.frame.DataFrame'>\n",
      "RangeIndex: 1125 entries, 0 to 1124\n",
      "Data columns (total 18 columns):\n",
      " #   Column       Non-Null Count  Dtype \n",
      "---  ------       --------------  ----- \n",
      " 0   raceId       1125 non-null   int64 \n",
      " 1   year         1125 non-null   int64 \n",
      " 2   round        1125 non-null   int64 \n",
      " 3   circuitId    1125 non-null   int64 \n",
      " 4   name         1125 non-null   object\n",
      " 5   date         1125 non-null   object\n",
      " 6   time         1125 non-null   object\n",
      " 7   url          1125 non-null   object\n",
      " 8   fp1_date     1125 non-null   object\n",
      " 9   fp1_time     1125 non-null   object\n",
      " 10  fp2_date     1125 non-null   object\n",
      " 11  fp2_time     1125 non-null   object\n",
      " 12  fp3_date     1125 non-null   object\n",
      " 13  fp3_time     1125 non-null   object\n",
      " 14  quali_date   1125 non-null   object\n",
      " 15  quali_time   1125 non-null   object\n",
      " 16  sprint_date  1125 non-null   object\n",
      " 17  sprint_time  1125 non-null   object\n",
      "dtypes: int64(4), object(14)\n",
      "memory usage: 158.3+ KB\n"
     ]
    }
   ],
   "source": [
    "# Affichage des types de données\n",
    "courses.info()"
   ]
  },
  {
   "cell_type": "markdown",
   "id": "0940eb1d-82a6-4e65-b209-6ac21e41a032",
   "metadata": {},
   "source": [
    "### Échantillonage des courses du 1950-2024 à 2018-2024\n",
    "\n",
    "* Les données météorologiques que nous avons à notre disposition sont de 2018 à 2024. Ce qui nous empêche de pouvoir mener une analyse météorologique avant 2018. \n",
    "\n",
    "* Par conséquent, Dans la suite de ce projet nous allons nous focaliser sur les années 2018-2024."
   ]
  },
  {
   "cell_type": "code",
   "execution_count": 15,
   "id": "1eb1fece-0a34-47b7-8606-44c2cdf7a937",
   "metadata": {},
   "outputs": [
    {
     "data": {
      "text/html": [
       "<div>\n",
       "<style scoped>\n",
       "    .dataframe tbody tr th:only-of-type {\n",
       "        vertical-align: middle;\n",
       "    }\n",
       "\n",
       "    .dataframe tbody tr th {\n",
       "        vertical-align: top;\n",
       "    }\n",
       "\n",
       "    .dataframe thead th {\n",
       "        text-align: right;\n",
       "    }\n",
       "</style>\n",
       "<table border=\"1\" class=\"dataframe\">\n",
       "  <thead>\n",
       "    <tr style=\"text-align: right;\">\n",
       "      <th></th>\n",
       "      <th>raceId</th>\n",
       "      <th>year</th>\n",
       "      <th>round</th>\n",
       "      <th>circuitId</th>\n",
       "      <th>name</th>\n",
       "      <th>date</th>\n",
       "      <th>time</th>\n",
       "      <th>url</th>\n",
       "      <th>fp1_date</th>\n",
       "      <th>fp1_time</th>\n",
       "      <th>fp2_date</th>\n",
       "      <th>fp2_time</th>\n",
       "      <th>fp3_date</th>\n",
       "      <th>fp3_time</th>\n",
       "      <th>quali_date</th>\n",
       "      <th>quali_time</th>\n",
       "      <th>sprint_date</th>\n",
       "      <th>sprint_time</th>\n",
       "    </tr>\n",
       "  </thead>\n",
       "  <tbody>\n",
       "    <tr>\n",
       "      <th>0</th>\n",
       "      <td>989</td>\n",
       "      <td>2018</td>\n",
       "      <td>1</td>\n",
       "      <td>1</td>\n",
       "      <td>Australian Grand Prix</td>\n",
       "      <td>2018-03-25</td>\n",
       "      <td>05:10:00</td>\n",
       "      <td>http://en.wikipedia.org/wiki/2018_Australian_G...</td>\n",
       "      <td>\\N</td>\n",
       "      <td>\\N</td>\n",
       "      <td>\\N</td>\n",
       "      <td>\\N</td>\n",
       "      <td>\\N</td>\n",
       "      <td>\\N</td>\n",
       "      <td>\\N</td>\n",
       "      <td>\\N</td>\n",
       "      <td>\\N</td>\n",
       "      <td>\\N</td>\n",
       "    </tr>\n",
       "    <tr>\n",
       "      <th>1</th>\n",
       "      <td>990</td>\n",
       "      <td>2018</td>\n",
       "      <td>2</td>\n",
       "      <td>3</td>\n",
       "      <td>Bahrain Grand Prix</td>\n",
       "      <td>2018-04-08</td>\n",
       "      <td>15:10:00</td>\n",
       "      <td>http://en.wikipedia.org/wiki/2018_Bahrain_Gran...</td>\n",
       "      <td>\\N</td>\n",
       "      <td>\\N</td>\n",
       "      <td>\\N</td>\n",
       "      <td>\\N</td>\n",
       "      <td>\\N</td>\n",
       "      <td>\\N</td>\n",
       "      <td>\\N</td>\n",
       "      <td>\\N</td>\n",
       "      <td>\\N</td>\n",
       "      <td>\\N</td>\n",
       "    </tr>\n",
       "    <tr>\n",
       "      <th>2</th>\n",
       "      <td>991</td>\n",
       "      <td>2018</td>\n",
       "      <td>3</td>\n",
       "      <td>17</td>\n",
       "      <td>Chinese Grand Prix</td>\n",
       "      <td>2018-04-15</td>\n",
       "      <td>06:10:00</td>\n",
       "      <td>http://en.wikipedia.org/wiki/2018_Chinese_Gran...</td>\n",
       "      <td>\\N</td>\n",
       "      <td>\\N</td>\n",
       "      <td>\\N</td>\n",
       "      <td>\\N</td>\n",
       "      <td>\\N</td>\n",
       "      <td>\\N</td>\n",
       "      <td>\\N</td>\n",
       "      <td>\\N</td>\n",
       "      <td>\\N</td>\n",
       "      <td>\\N</td>\n",
       "    </tr>\n",
       "    <tr>\n",
       "      <th>3</th>\n",
       "      <td>992</td>\n",
       "      <td>2018</td>\n",
       "      <td>4</td>\n",
       "      <td>73</td>\n",
       "      <td>Azerbaijan Grand Prix</td>\n",
       "      <td>2018-04-29</td>\n",
       "      <td>12:10:00</td>\n",
       "      <td>http://en.wikipedia.org/wiki/2018_Azerbaijan_G...</td>\n",
       "      <td>\\N</td>\n",
       "      <td>\\N</td>\n",
       "      <td>\\N</td>\n",
       "      <td>\\N</td>\n",
       "      <td>\\N</td>\n",
       "      <td>\\N</td>\n",
       "      <td>\\N</td>\n",
       "      <td>\\N</td>\n",
       "      <td>\\N</td>\n",
       "      <td>\\N</td>\n",
       "    </tr>\n",
       "    <tr>\n",
       "      <th>4</th>\n",
       "      <td>993</td>\n",
       "      <td>2018</td>\n",
       "      <td>5</td>\n",
       "      <td>4</td>\n",
       "      <td>Spanish Grand Prix</td>\n",
       "      <td>2018-05-13</td>\n",
       "      <td>13:10:00</td>\n",
       "      <td>http://en.wikipedia.org/wiki/2018_Spanish_Gran...</td>\n",
       "      <td>\\N</td>\n",
       "      <td>\\N</td>\n",
       "      <td>\\N</td>\n",
       "      <td>\\N</td>\n",
       "      <td>\\N</td>\n",
       "      <td>\\N</td>\n",
       "      <td>\\N</td>\n",
       "      <td>\\N</td>\n",
       "      <td>\\N</td>\n",
       "      <td>\\N</td>\n",
       "    </tr>\n",
       "  </tbody>\n",
       "</table>\n",
       "</div>"
      ],
      "text/plain": [
       "   raceId  year  round  circuitId                   name        date  \\\n",
       "0     989  2018      1          1  Australian Grand Prix  2018-03-25   \n",
       "1     990  2018      2          3     Bahrain Grand Prix  2018-04-08   \n",
       "2     991  2018      3         17     Chinese Grand Prix  2018-04-15   \n",
       "3     992  2018      4         73  Azerbaijan Grand Prix  2018-04-29   \n",
       "4     993  2018      5          4     Spanish Grand Prix  2018-05-13   \n",
       "\n",
       "       time                                                url fp1_date  \\\n",
       "0  05:10:00  http://en.wikipedia.org/wiki/2018_Australian_G...       \\N   \n",
       "1  15:10:00  http://en.wikipedia.org/wiki/2018_Bahrain_Gran...       \\N   \n",
       "2  06:10:00  http://en.wikipedia.org/wiki/2018_Chinese_Gran...       \\N   \n",
       "3  12:10:00  http://en.wikipedia.org/wiki/2018_Azerbaijan_G...       \\N   \n",
       "4  13:10:00  http://en.wikipedia.org/wiki/2018_Spanish_Gran...       \\N   \n",
       "\n",
       "  fp1_time fp2_date fp2_time fp3_date fp3_time quali_date quali_time  \\\n",
       "0       \\N       \\N       \\N       \\N       \\N         \\N         \\N   \n",
       "1       \\N       \\N       \\N       \\N       \\N         \\N         \\N   \n",
       "2       \\N       \\N       \\N       \\N       \\N         \\N         \\N   \n",
       "3       \\N       \\N       \\N       \\N       \\N         \\N         \\N   \n",
       "4       \\N       \\N       \\N       \\N       \\N         \\N         \\N   \n",
       "\n",
       "  sprint_date sprint_time  \n",
       "0          \\N          \\N  \n",
       "1          \\N          \\N  \n",
       "2          \\N          \\N  \n",
       "3          \\N          \\N  \n",
       "4          \\N          \\N  "
      ]
     },
     "execution_count": 15,
     "metadata": {},
     "output_type": "execute_result"
    }
   ],
   "source": [
    "# Récuperer les courses de 2018 à 2024\n",
    "courses_2018_2024 = courses[(courses['year'] >= 2018) & (courses['year'] <= 2024)]\n",
    "\n",
    "# Reindexer le dataset\n",
    "courses_2018_2024 = courses_2018_2024.reset_index(drop=True)\n",
    "\n",
    "# Afficher les 5 premières lignes\n",
    "courses_2018_2024.head()"
   ]
  },
  {
   "cell_type": "markdown",
   "id": "4b93eb31-3a3b-46d6-92f8-6d5a4f324639",
   "metadata": {},
   "source": [
    "### Analyse du pertinance des variables"
   ]
  },
  {
   "cell_type": "code",
   "execution_count": 16,
   "id": "d3b07604-bad8-4e06-a5fe-2403fde3a039",
   "metadata": {},
   "outputs": [
    {
     "name": "stdout",
     "output_type": "stream",
     "text": [
      "fp1_date  : \n",
      "count     149\n",
      "unique     91\n",
      "top        \\N\n",
      "freq       59\n",
      "Name: fp1_date, dtype: object \n",
      "\n",
      "fp1_time  : \n",
      "count     149\n",
      "unique     21\n",
      "top        \\N\n",
      "freq       81\n",
      "Name: fp1_time, dtype: object \n",
      "\n",
      "fp2_date  : \n",
      "count     149\n",
      "unique     91\n",
      "top        \\N\n",
      "freq       59\n",
      "Name: fp2_date, dtype: object \n",
      "\n",
      "fp2_time  : \n",
      "count     149\n",
      "unique     20\n",
      "top        \\N\n",
      "freq       81\n",
      "Name: fp2_time, dtype: object \n",
      "\n",
      "fp3_date  : \n",
      "count     149\n",
      "unique     73\n",
      "top        \\N\n",
      "freq       77\n",
      "Name: fp3_date, dtype: object \n",
      "\n",
      "fp3_time  : \n",
      "count     149\n",
      "unique     19\n",
      "top        \\N\n",
      "freq       96\n",
      "Name: fp3_time, dtype: object \n",
      "\n",
      "quali_date  : \n",
      "count     149\n",
      "unique     91\n",
      "top        \\N\n",
      "freq       59\n",
      "Name: quali_date, dtype: object \n",
      "\n",
      "quali_time  : \n",
      "count     149\n",
      "unique     16\n",
      "top        \\N\n",
      "freq       81\n",
      "Name: quali_time, dtype: object \n",
      "\n",
      "sprint_date  : \n",
      "count     149\n",
      "unique     19\n",
      "top        \\N\n",
      "freq      131\n",
      "Name: sprint_date, dtype: object \n",
      "\n",
      "sprint_time  : \n",
      "count     149\n",
      "unique     13\n",
      "top        \\N\n",
      "freq      134\n",
      "Name: sprint_time, dtype: object \n",
      "\n",
      "time  : \n",
      "count          149\n",
      "unique          26\n",
      "top       13:00:00\n",
      "freq            38\n",
      "Name: time, dtype: object \n",
      "\n",
      "date  : \n",
      "count            149\n",
      "unique           149\n",
      "top       2018-03-25\n",
      "freq               1\n",
      "Name: date, dtype: object \n",
      "\n"
     ]
    }
   ],
   "source": [
    "columns = ['fp1_date', 'fp1_time', 'fp2_date', 'fp2_time', 'fp3_date', 'fp3_time','quali_date', 'quali_time', 'sprint_date', 'sprint_time', 'time', 'date']\n",
    "\n",
    "for column in columns: \n",
    "    print(column, \" : \")\n",
    "    print(courses_2018_2024[column].describe(), \"\\n\")"
   ]
  },
  {
   "cell_type": "markdown",
   "id": "4bece793-57f7-424d-94c3-f3074c6f078f",
   "metadata": {},
   "source": [
    "- Les variables ['fp1_date', 'fp1_time', 'fp2_date', 'fp2_time', 'fp3_date', 'fp3_time', 'quali_date', 'quali_time', 'sprint_date', 'sprint_time'] contiennent plus de 39 % de valeurs manquantes (\\N). De plus, ces variables se réfèrent principalement aux horaires des différentes sessions de la course (essais libres, qualifications, sprint, etc.), qui ne sont pas directement liées aux conditions météorologiques ayant un impact sur les performances des pilotes. Par conséquent, nous avons décidé de retirer ces variables pour simplifier l'analyse en nous concentrant sur les éléments les plus pertinents. La variable 'url' sera conservée, car elle peut être utile pour obtenir plus d'informations sur une course si nécessaire.\n",
    "\n",
    "- En revanche, les variables 'date' et 'time' de la course restent pertinentes. Elles permettent de situer les données météorologiques dans le temps, ce qui est essentiel pour l'analyse des conditions climatiques et leur impact sur les performances des pilotes. Toutefois, la variable 'time' sera supprimée. En effet, dans la table des données météorologiques, nous disposons déjà d'informations météo associées à chaque minute de la course, ce qui rend la variable 'time' redondante dans le contexte de notre analyse.\n",
    "\n",
    "- Les variables 'year', 'round', 'circuitId' et 'name' sont également conservées car elles permettent d'identifier chaque course, la saison et le circuit associés. Ces informations sont essentielles pour relier les données météorologiques aux événements spécifiques de la compétition et pour étudier l'impact des conditions climatiques sur les performances des pilotes en fonction de l'année, du circuit et du tour de la compétition.\n"
   ]
  },
  {
   "cell_type": "code",
   "execution_count": 17,
   "id": "eca5614f-f737-47f0-9d9d-baa7a24d1754",
   "metadata": {},
   "outputs": [
    {
     "data": {
      "text/html": [
       "<div>\n",
       "<style scoped>\n",
       "    .dataframe tbody tr th:only-of-type {\n",
       "        vertical-align: middle;\n",
       "    }\n",
       "\n",
       "    .dataframe tbody tr th {\n",
       "        vertical-align: top;\n",
       "    }\n",
       "\n",
       "    .dataframe thead th {\n",
       "        text-align: right;\n",
       "    }\n",
       "</style>\n",
       "<table border=\"1\" class=\"dataframe\">\n",
       "  <thead>\n",
       "    <tr style=\"text-align: right;\">\n",
       "      <th></th>\n",
       "      <th>raceId</th>\n",
       "      <th>year</th>\n",
       "      <th>round</th>\n",
       "      <th>circuitId</th>\n",
       "      <th>name</th>\n",
       "      <th>date</th>\n",
       "      <th>time</th>\n",
       "    </tr>\n",
       "  </thead>\n",
       "  <tbody>\n",
       "    <tr>\n",
       "      <th>0</th>\n",
       "      <td>989</td>\n",
       "      <td>2018</td>\n",
       "      <td>1</td>\n",
       "      <td>1</td>\n",
       "      <td>Australian Grand Prix</td>\n",
       "      <td>2018-03-25</td>\n",
       "      <td>05:10:00</td>\n",
       "    </tr>\n",
       "    <tr>\n",
       "      <th>1</th>\n",
       "      <td>990</td>\n",
       "      <td>2018</td>\n",
       "      <td>2</td>\n",
       "      <td>3</td>\n",
       "      <td>Bahrain Grand Prix</td>\n",
       "      <td>2018-04-08</td>\n",
       "      <td>15:10:00</td>\n",
       "    </tr>\n",
       "    <tr>\n",
       "      <th>2</th>\n",
       "      <td>991</td>\n",
       "      <td>2018</td>\n",
       "      <td>3</td>\n",
       "      <td>17</td>\n",
       "      <td>Chinese Grand Prix</td>\n",
       "      <td>2018-04-15</td>\n",
       "      <td>06:10:00</td>\n",
       "    </tr>\n",
       "    <tr>\n",
       "      <th>3</th>\n",
       "      <td>992</td>\n",
       "      <td>2018</td>\n",
       "      <td>4</td>\n",
       "      <td>73</td>\n",
       "      <td>Azerbaijan Grand Prix</td>\n",
       "      <td>2018-04-29</td>\n",
       "      <td>12:10:00</td>\n",
       "    </tr>\n",
       "    <tr>\n",
       "      <th>4</th>\n",
       "      <td>993</td>\n",
       "      <td>2018</td>\n",
       "      <td>5</td>\n",
       "      <td>4</td>\n",
       "      <td>Spanish Grand Prix</td>\n",
       "      <td>2018-05-13</td>\n",
       "      <td>13:10:00</td>\n",
       "    </tr>\n",
       "  </tbody>\n",
       "</table>\n",
       "</div>"
      ],
      "text/plain": [
       "   raceId  year  round  circuitId                   name        date      time\n",
       "0     989  2018      1          1  Australian Grand Prix  2018-03-25  05:10:00\n",
       "1     990  2018      2          3     Bahrain Grand Prix  2018-04-08  15:10:00\n",
       "2     991  2018      3         17     Chinese Grand Prix  2018-04-15  06:10:00\n",
       "3     992  2018      4         73  Azerbaijan Grand Prix  2018-04-29  12:10:00\n",
       "4     993  2018      5          4     Spanish Grand Prix  2018-05-13  13:10:00"
      ]
     },
     "execution_count": 17,
     "metadata": {},
     "output_type": "execute_result"
    }
   ],
   "source": [
    "# Suppression des colonnes non indispensable\n",
    "courses_cleaned = courses_2018_2024[['raceId', 'year', 'round', 'circuitId', 'name', 'date', 'time']]\n",
    "courses_cleaned.head()"
   ]
  },
  {
   "cell_type": "markdown",
   "id": "1eaf5a11-8071-4d5e-9f52-2a27bcdefff9",
   "metadata": {},
   "source": [
    "### Analyse des valeurs manquantes\n",
    "        "
   ]
  },
  {
   "cell_type": "code",
   "execution_count": 18,
   "id": "fdba9c57-2926-44c8-806d-1ef2a0b48e3a",
   "metadata": {},
   "outputs": [
    {
     "name": "stdout",
     "output_type": "stream",
     "text": [
      "La base de données Courses ne contient pas des valeurs manquantes\n"
     ]
    }
   ],
   "source": [
    "check_missing_values(courses_cleaned, 'Courses')"
   ]
  },
  {
   "cell_type": "markdown",
   "id": "94930680-07f2-4f07-b82b-1b5d36a6ba05",
   "metadata": {},
   "source": [
    "### Analyse des doublons        "
   ]
  },
  {
   "cell_type": "code",
   "execution_count": 19,
   "id": "4fd54127-20bc-4d30-8ab8-708162ab939a",
   "metadata": {},
   "outputs": [
    {
     "name": "stdout",
     "output_type": "stream",
     "text": [
      "Courses ne contient pas de doublons.\n"
     ]
    }
   ],
   "source": [
    "check_duplicates(courses_cleaned, 'Courses')"
   ]
  },
  {
   "cell_type": "markdown",
   "id": "a19e61b9-b7dd-4806-9631-3d20a661b9c4",
   "metadata": {},
   "source": [
    "### Enregistrement des données nettoyés dans un fichier csv"
   ]
  },
  {
   "cell_type": "code",
   "execution_count": 23,
   "id": "d47c67ac-22f1-4a17-afd4-97e32a6c02c9",
   "metadata": {},
   "outputs": [
    {
     "data": {
      "text/html": [
       "<div>\n",
       "<style scoped>\n",
       "    .dataframe tbody tr th:only-of-type {\n",
       "        vertical-align: middle;\n",
       "    }\n",
       "\n",
       "    .dataframe tbody tr th {\n",
       "        vertical-align: top;\n",
       "    }\n",
       "\n",
       "    .dataframe thead th {\n",
       "        text-align: right;\n",
       "    }\n",
       "</style>\n",
       "<table border=\"1\" class=\"dataframe\">\n",
       "  <thead>\n",
       "    <tr style=\"text-align: right;\">\n",
       "      <th></th>\n",
       "      <th>raceId</th>\n",
       "      <th>year</th>\n",
       "      <th>round</th>\n",
       "      <th>circuitId</th>\n",
       "      <th>name</th>\n",
       "      <th>date</th>\n",
       "      <th>time</th>\n",
       "    </tr>\n",
       "  </thead>\n",
       "  <tbody>\n",
       "    <tr>\n",
       "      <th>0</th>\n",
       "      <td>989</td>\n",
       "      <td>2018</td>\n",
       "      <td>1</td>\n",
       "      <td>1</td>\n",
       "      <td>Australian Grand Prix</td>\n",
       "      <td>2018-03-25</td>\n",
       "      <td>05:10:00</td>\n",
       "    </tr>\n",
       "    <tr>\n",
       "      <th>1</th>\n",
       "      <td>990</td>\n",
       "      <td>2018</td>\n",
       "      <td>2</td>\n",
       "      <td>3</td>\n",
       "      <td>Bahrain Grand Prix</td>\n",
       "      <td>2018-04-08</td>\n",
       "      <td>15:10:00</td>\n",
       "    </tr>\n",
       "    <tr>\n",
       "      <th>2</th>\n",
       "      <td>991</td>\n",
       "      <td>2018</td>\n",
       "      <td>3</td>\n",
       "      <td>17</td>\n",
       "      <td>Chinese Grand Prix</td>\n",
       "      <td>2018-04-15</td>\n",
       "      <td>06:10:00</td>\n",
       "    </tr>\n",
       "    <tr>\n",
       "      <th>3</th>\n",
       "      <td>992</td>\n",
       "      <td>2018</td>\n",
       "      <td>4</td>\n",
       "      <td>73</td>\n",
       "      <td>Azerbaijan Grand Prix</td>\n",
       "      <td>2018-04-29</td>\n",
       "      <td>12:10:00</td>\n",
       "    </tr>\n",
       "    <tr>\n",
       "      <th>4</th>\n",
       "      <td>993</td>\n",
       "      <td>2018</td>\n",
       "      <td>5</td>\n",
       "      <td>4</td>\n",
       "      <td>Spanish Grand Prix</td>\n",
       "      <td>2018-05-13</td>\n",
       "      <td>13:10:00</td>\n",
       "    </tr>\n",
       "  </tbody>\n",
       "</table>\n",
       "</div>"
      ],
      "text/plain": [
       "   raceId  year  round  circuitId                   name        date      time\n",
       "0     989  2018      1          1  Australian Grand Prix  2018-03-25  05:10:00\n",
       "1     990  2018      2          3     Bahrain Grand Prix  2018-04-08  15:10:00\n",
       "2     991  2018      3         17     Chinese Grand Prix  2018-04-15  06:10:00\n",
       "3     992  2018      4         73  Azerbaijan Grand Prix  2018-04-29  12:10:00\n",
       "4     993  2018      5          4     Spanish Grand Prix  2018-05-13  13:10:00"
      ]
     },
     "execution_count": 23,
     "metadata": {},
     "output_type": "execute_result"
    }
   ],
   "source": [
    "dataset_to_csv(courses_cleaned, 'courses_cleaned')\n",
    "courses_cleaned.head()"
   ]
  },
  {
   "cell_type": "markdown",
   "id": "3bd03393-84e2-4594-a45a-c56b65285798",
   "metadata": {},
   "source": [
    "## 5. Nettoyage de la base de données des pilotes"
   ]
  },
  {
   "cell_type": "markdown",
   "id": "54daa938-982a-451f-960b-760815b151d4",
   "metadata": {},
   "source": [
    "### Analyse des types de données"
   ]
  },
  {
   "cell_type": "code",
   "execution_count": 4,
   "id": "1ecf5256-a64c-4a02-a78b-ce2540996528",
   "metadata": {},
   "outputs": [
    {
     "data": {
      "text/html": [
       "<div>\n",
       "<style scoped>\n",
       "    .dataframe tbody tr th:only-of-type {\n",
       "        vertical-align: middle;\n",
       "    }\n",
       "\n",
       "    .dataframe tbody tr th {\n",
       "        vertical-align: top;\n",
       "    }\n",
       "\n",
       "    .dataframe thead th {\n",
       "        text-align: right;\n",
       "    }\n",
       "</style>\n",
       "<table border=\"1\" class=\"dataframe\">\n",
       "  <thead>\n",
       "    <tr style=\"text-align: right;\">\n",
       "      <th></th>\n",
       "      <th>driverId</th>\n",
       "      <th>driverRef</th>\n",
       "      <th>number</th>\n",
       "      <th>code</th>\n",
       "      <th>forename</th>\n",
       "      <th>surname</th>\n",
       "      <th>dob</th>\n",
       "      <th>nationality</th>\n",
       "      <th>url</th>\n",
       "    </tr>\n",
       "  </thead>\n",
       "  <tbody>\n",
       "    <tr>\n",
       "      <th>0</th>\n",
       "      <td>1</td>\n",
       "      <td>hamilton</td>\n",
       "      <td>44</td>\n",
       "      <td>HAM</td>\n",
       "      <td>Lewis</td>\n",
       "      <td>Hamilton</td>\n",
       "      <td>1985-01-07</td>\n",
       "      <td>British</td>\n",
       "      <td>http://en.wikipedia.org/wiki/Lewis_Hamilton</td>\n",
       "    </tr>\n",
       "    <tr>\n",
       "      <th>1</th>\n",
       "      <td>2</td>\n",
       "      <td>heidfeld</td>\n",
       "      <td>\\N</td>\n",
       "      <td>HEI</td>\n",
       "      <td>Nick</td>\n",
       "      <td>Heidfeld</td>\n",
       "      <td>1977-05-10</td>\n",
       "      <td>German</td>\n",
       "      <td>http://en.wikipedia.org/wiki/Nick_Heidfeld</td>\n",
       "    </tr>\n",
       "    <tr>\n",
       "      <th>2</th>\n",
       "      <td>3</td>\n",
       "      <td>rosberg</td>\n",
       "      <td>6</td>\n",
       "      <td>ROS</td>\n",
       "      <td>Nico</td>\n",
       "      <td>Rosberg</td>\n",
       "      <td>1985-06-27</td>\n",
       "      <td>German</td>\n",
       "      <td>http://en.wikipedia.org/wiki/Nico_Rosberg</td>\n",
       "    </tr>\n",
       "    <tr>\n",
       "      <th>3</th>\n",
       "      <td>4</td>\n",
       "      <td>alonso</td>\n",
       "      <td>14</td>\n",
       "      <td>ALO</td>\n",
       "      <td>Fernando</td>\n",
       "      <td>Alonso</td>\n",
       "      <td>1981-07-29</td>\n",
       "      <td>Spanish</td>\n",
       "      <td>http://en.wikipedia.org/wiki/Fernando_Alonso</td>\n",
       "    </tr>\n",
       "    <tr>\n",
       "      <th>4</th>\n",
       "      <td>5</td>\n",
       "      <td>kovalainen</td>\n",
       "      <td>\\N</td>\n",
       "      <td>KOV</td>\n",
       "      <td>Heikki</td>\n",
       "      <td>Kovalainen</td>\n",
       "      <td>1981-10-19</td>\n",
       "      <td>Finnish</td>\n",
       "      <td>http://en.wikipedia.org/wiki/Heikki_Kovalainen</td>\n",
       "    </tr>\n",
       "  </tbody>\n",
       "</table>\n",
       "</div>"
      ],
      "text/plain": [
       "   driverId   driverRef number code  forename     surname         dob  \\\n",
       "0         1    hamilton     44  HAM     Lewis    Hamilton  1985-01-07   \n",
       "1         2    heidfeld     \\N  HEI      Nick    Heidfeld  1977-05-10   \n",
       "2         3     rosberg      6  ROS      Nico     Rosberg  1985-06-27   \n",
       "3         4      alonso     14  ALO  Fernando      Alonso  1981-07-29   \n",
       "4         5  kovalainen     \\N  KOV    Heikki  Kovalainen  1981-10-19   \n",
       "\n",
       "  nationality                                             url  \n",
       "0     British     http://en.wikipedia.org/wiki/Lewis_Hamilton  \n",
       "1      German      http://en.wikipedia.org/wiki/Nick_Heidfeld  \n",
       "2      German       http://en.wikipedia.org/wiki/Nico_Rosberg  \n",
       "3     Spanish    http://en.wikipedia.org/wiki/Fernando_Alonso  \n",
       "4     Finnish  http://en.wikipedia.org/wiki/Heikki_Kovalainen  "
      ]
     },
     "execution_count": 4,
     "metadata": {},
     "output_type": "execute_result"
    }
   ],
   "source": [
    "# Afficher les 5 premieres lignes\n",
    "pilotes.head(5)"
   ]
  },
  {
   "cell_type": "code",
   "execution_count": 6,
   "id": "466f4a58-0cf3-40a4-a584-88b0e65708fa",
   "metadata": {},
   "outputs": [
    {
     "name": "stdout",
     "output_type": "stream",
     "text": [
      "<class 'pandas.core.frame.DataFrame'>\n",
      "RangeIndex: 859 entries, 0 to 858\n",
      "Data columns (total 9 columns):\n",
      " #   Column       Non-Null Count  Dtype \n",
      "---  ------       --------------  ----- \n",
      " 0   driverId     859 non-null    int64 \n",
      " 1   driverRef    859 non-null    object\n",
      " 2   number       859 non-null    object\n",
      " 3   code         859 non-null    object\n",
      " 4   forename     859 non-null    object\n",
      " 5   surname      859 non-null    object\n",
      " 6   dob          859 non-null    object\n",
      " 7   nationality  859 non-null    object\n",
      " 8   url          859 non-null    object\n",
      "dtypes: int64(1), object(8)\n",
      "memory usage: 60.5+ KB\n"
     ]
    }
   ],
   "source": [
    "# Vérification du type des données\n",
    "pilotes.info()"
   ]
  },
  {
   "cell_type": "markdown",
   "id": "a7160b6f-d03b-4945-8a63-7c1552c700e5",
   "metadata": {},
   "source": [
    "### Choix des variables pertinantes\n",
    "\n",
    "Pour le fichier drivers.csv, seules les colonnes driverId, code, forename, surname et url seront conservées :\n",
    "\n",
    "- Les colonnes driverId, forename et surname permettent d'identifier clairement les pilotes, ce qui est essentiel pour relier leurs performances aux données météorologiques.\n",
    "- La colonne url est également utile pour obtenir des informations supplémentaires sur un pilote, si nécessaire.\n",
    "\n",
    "Les autres colonnes ont été jugées non pertinentes pour analyser l'impact des conditions météorologiques sur les performances des pilotes :\n",
    "\n",
    "- code s'agit généralement d'un code à trois lettres pour identifier les pilotes, principalement utilisé dans les affichages et classements, mais sans impact direct pour analyser les effets de la météo.\n",
    "- driverRef est une simple référence textuelle.\n",
    "- number est utilisé pour le classement ou l'affichage des pilotes lors des courses, mais n'apporte pas d'information sur leurs performances liées à la météo.\n",
    "- dob (date de naissance), bien qu'elle permette de calculer l'âge, n'est pas directement corrélée avec l'impact des conditions météorologiques dans ce contexte d'analyse.\n",
    "- nationality, bien qu'intéressante sur le plan descriptif, n'a pas d'influence mesurable sur les performances des pilotes en fonction des conditions climatiques.\n",
    "\n",
    "Ces colonnes seront donc supprimées pour simplifier l'analyse et se concentrer sur les variables directement utiles."
   ]
  },
  {
   "cell_type": "code",
   "execution_count": 21,
   "id": "9c3814b8-a7b9-4b51-af5f-99bc8ad27241",
   "metadata": {},
   "outputs": [],
   "source": [
    "pilotes_cleaned = pilotes[['driverId','forename','surname','url']]"
   ]
  },
  {
   "cell_type": "code",
   "execution_count": 22,
   "id": "99a75540-7e1d-4217-96b0-d50a2860a44b",
   "metadata": {},
   "outputs": [
    {
     "data": {
      "text/html": [
       "<div>\n",
       "<style scoped>\n",
       "    .dataframe tbody tr th:only-of-type {\n",
       "        vertical-align: middle;\n",
       "    }\n",
       "\n",
       "    .dataframe tbody tr th {\n",
       "        vertical-align: top;\n",
       "    }\n",
       "\n",
       "    .dataframe thead th {\n",
       "        text-align: right;\n",
       "    }\n",
       "</style>\n",
       "<table border=\"1\" class=\"dataframe\">\n",
       "  <thead>\n",
       "    <tr style=\"text-align: right;\">\n",
       "      <th></th>\n",
       "      <th>driverId</th>\n",
       "      <th>forename</th>\n",
       "      <th>surname</th>\n",
       "      <th>url</th>\n",
       "    </tr>\n",
       "  </thead>\n",
       "  <tbody>\n",
       "    <tr>\n",
       "      <th>0</th>\n",
       "      <td>1</td>\n",
       "      <td>Lewis</td>\n",
       "      <td>Hamilton</td>\n",
       "      <td>http://en.wikipedia.org/wiki/Lewis_Hamilton</td>\n",
       "    </tr>\n",
       "    <tr>\n",
       "      <th>1</th>\n",
       "      <td>2</td>\n",
       "      <td>Nick</td>\n",
       "      <td>Heidfeld</td>\n",
       "      <td>http://en.wikipedia.org/wiki/Nick_Heidfeld</td>\n",
       "    </tr>\n",
       "    <tr>\n",
       "      <th>2</th>\n",
       "      <td>3</td>\n",
       "      <td>Nico</td>\n",
       "      <td>Rosberg</td>\n",
       "      <td>http://en.wikipedia.org/wiki/Nico_Rosberg</td>\n",
       "    </tr>\n",
       "    <tr>\n",
       "      <th>3</th>\n",
       "      <td>4</td>\n",
       "      <td>Fernando</td>\n",
       "      <td>Alonso</td>\n",
       "      <td>http://en.wikipedia.org/wiki/Fernando_Alonso</td>\n",
       "    </tr>\n",
       "    <tr>\n",
       "      <th>4</th>\n",
       "      <td>5</td>\n",
       "      <td>Heikki</td>\n",
       "      <td>Kovalainen</td>\n",
       "      <td>http://en.wikipedia.org/wiki/Heikki_Kovalainen</td>\n",
       "    </tr>\n",
       "  </tbody>\n",
       "</table>\n",
       "</div>"
      ],
      "text/plain": [
       "   driverId  forename     surname  \\\n",
       "0         1     Lewis    Hamilton   \n",
       "1         2      Nick    Heidfeld   \n",
       "2         3      Nico     Rosberg   \n",
       "3         4  Fernando      Alonso   \n",
       "4         5    Heikki  Kovalainen   \n",
       "\n",
       "                                              url  \n",
       "0     http://en.wikipedia.org/wiki/Lewis_Hamilton  \n",
       "1      http://en.wikipedia.org/wiki/Nick_Heidfeld  \n",
       "2       http://en.wikipedia.org/wiki/Nico_Rosberg  \n",
       "3    http://en.wikipedia.org/wiki/Fernando_Alonso  \n",
       "4  http://en.wikipedia.org/wiki/Heikki_Kovalainen  "
      ]
     },
     "execution_count": 22,
     "metadata": {},
     "output_type": "execute_result"
    }
   ],
   "source": [
    "pilotes_cleaned.head()"
   ]
  },
  {
   "cell_type": "markdown",
   "id": "f7f5f2e7-cd5a-422d-ab9c-2cd25d139ea3",
   "metadata": {},
   "source": [
    "### Analyse des valeurs manquantes"
   ]
  },
  {
   "cell_type": "code",
   "execution_count": 25,
   "id": "458f85eb-1b3a-434e-bb73-9d249c8f4c37",
   "metadata": {},
   "outputs": [
    {
     "name": "stdout",
     "output_type": "stream",
     "text": [
      "La base de données pilotes_cleaned ne contient pas des valeurs manquantes\n"
     ]
    }
   ],
   "source": [
    "check_missing_values(pilotes_cleaned, 'pilotes_cleaned')"
   ]
  },
  {
   "cell_type": "markdown",
   "id": "79fa0098-a5b4-4d95-b306-14eb5b31ba32",
   "metadata": {},
   "source": [
    "### Analyse des doublons"
   ]
  },
  {
   "cell_type": "code",
   "execution_count": 26,
   "id": "e3485a7d-0a2f-4b12-9314-2d7972352144",
   "metadata": {},
   "outputs": [
    {
     "name": "stdout",
     "output_type": "stream",
     "text": [
      "pilotes_cleaned ne contient pas de doublons.\n"
     ]
    }
   ],
   "source": [
    "check_duplicates(pilotes_cleaned, 'pilotes_cleaned')"
   ]
  },
  {
   "cell_type": "markdown",
   "id": "0c66a004-8e00-42c7-bb06-f86d7d050b7b",
   "metadata": {},
   "source": [
    "### Enregistrement des données nettoyés dans un fichier csv"
   ]
  },
  {
   "cell_type": "code",
   "execution_count": 28,
   "id": "9c26941f-a983-40d9-be07-276dfd782f65",
   "metadata": {},
   "outputs": [
    {
     "name": "stdout",
     "output_type": "stream",
     "text": [
      "Les données nettoyées ont été enregistrées dans le fichier 'Cleaned_Data/pilotes_cleaned.csv'.\n"
     ]
    }
   ],
   "source": [
    "dataset_to_csv(pilotes_cleaned, 'pilotes_cleaned')"
   ]
  },
  {
   "cell_type": "markdown",
   "id": "e55076ea-9864-4138-ae16-4f255246808c",
   "metadata": {},
   "source": [
    "## 6. Nettoyae des données des resultats des courses"
   ]
  },
  {
   "cell_type": "markdown",
   "id": "73fdca39-9512-4e1a-ba49-202298e690b5",
   "metadata": {},
   "source": [
    "## Vérification des types de données"
   ]
  },
  {
   "cell_type": "code",
   "execution_count": 6,
   "id": "1f2ff26f-1d5e-4786-82f6-353534e1b376",
   "metadata": {},
   "outputs": [
    {
     "data": {
      "text/html": [
       "<div>\n",
       "<style scoped>\n",
       "    .dataframe tbody tr th:only-of-type {\n",
       "        vertical-align: middle;\n",
       "    }\n",
       "\n",
       "    .dataframe tbody tr th {\n",
       "        vertical-align: top;\n",
       "    }\n",
       "\n",
       "    .dataframe thead th {\n",
       "        text-align: right;\n",
       "    }\n",
       "</style>\n",
       "<table border=\"1\" class=\"dataframe\">\n",
       "  <thead>\n",
       "    <tr style=\"text-align: right;\">\n",
       "      <th></th>\n",
       "      <th>resultId</th>\n",
       "      <th>raceId</th>\n",
       "      <th>driverId</th>\n",
       "      <th>constructorId</th>\n",
       "      <th>number</th>\n",
       "      <th>grid</th>\n",
       "      <th>position</th>\n",
       "      <th>positionText</th>\n",
       "      <th>positionOrder</th>\n",
       "      <th>points</th>\n",
       "      <th>laps</th>\n",
       "      <th>time</th>\n",
       "      <th>milliseconds</th>\n",
       "      <th>fastestLap</th>\n",
       "      <th>rank</th>\n",
       "      <th>fastestLapTime</th>\n",
       "      <th>fastestLapSpeed</th>\n",
       "      <th>statusId</th>\n",
       "    </tr>\n",
       "  </thead>\n",
       "  <tbody>\n",
       "    <tr>\n",
       "      <th>0</th>\n",
       "      <td>1</td>\n",
       "      <td>18</td>\n",
       "      <td>1</td>\n",
       "      <td>1</td>\n",
       "      <td>22</td>\n",
       "      <td>1</td>\n",
       "      <td>1</td>\n",
       "      <td>1</td>\n",
       "      <td>1</td>\n",
       "      <td>10.0</td>\n",
       "      <td>58</td>\n",
       "      <td>1:34:50.616</td>\n",
       "      <td>5690616</td>\n",
       "      <td>39</td>\n",
       "      <td>2</td>\n",
       "      <td>1:27.452</td>\n",
       "      <td>218.300</td>\n",
       "      <td>1</td>\n",
       "    </tr>\n",
       "    <tr>\n",
       "      <th>1</th>\n",
       "      <td>2</td>\n",
       "      <td>18</td>\n",
       "      <td>2</td>\n",
       "      <td>2</td>\n",
       "      <td>3</td>\n",
       "      <td>5</td>\n",
       "      <td>2</td>\n",
       "      <td>2</td>\n",
       "      <td>2</td>\n",
       "      <td>8.0</td>\n",
       "      <td>58</td>\n",
       "      <td>+5.478</td>\n",
       "      <td>5696094</td>\n",
       "      <td>41</td>\n",
       "      <td>3</td>\n",
       "      <td>1:27.739</td>\n",
       "      <td>217.586</td>\n",
       "      <td>1</td>\n",
       "    </tr>\n",
       "    <tr>\n",
       "      <th>2</th>\n",
       "      <td>3</td>\n",
       "      <td>18</td>\n",
       "      <td>3</td>\n",
       "      <td>3</td>\n",
       "      <td>7</td>\n",
       "      <td>7</td>\n",
       "      <td>3</td>\n",
       "      <td>3</td>\n",
       "      <td>3</td>\n",
       "      <td>6.0</td>\n",
       "      <td>58</td>\n",
       "      <td>+8.163</td>\n",
       "      <td>5698779</td>\n",
       "      <td>41</td>\n",
       "      <td>5</td>\n",
       "      <td>1:28.090</td>\n",
       "      <td>216.719</td>\n",
       "      <td>1</td>\n",
       "    </tr>\n",
       "    <tr>\n",
       "      <th>3</th>\n",
       "      <td>4</td>\n",
       "      <td>18</td>\n",
       "      <td>4</td>\n",
       "      <td>4</td>\n",
       "      <td>5</td>\n",
       "      <td>11</td>\n",
       "      <td>4</td>\n",
       "      <td>4</td>\n",
       "      <td>4</td>\n",
       "      <td>5.0</td>\n",
       "      <td>58</td>\n",
       "      <td>+17.181</td>\n",
       "      <td>5707797</td>\n",
       "      <td>58</td>\n",
       "      <td>7</td>\n",
       "      <td>1:28.603</td>\n",
       "      <td>215.464</td>\n",
       "      <td>1</td>\n",
       "    </tr>\n",
       "    <tr>\n",
       "      <th>4</th>\n",
       "      <td>5</td>\n",
       "      <td>18</td>\n",
       "      <td>5</td>\n",
       "      <td>1</td>\n",
       "      <td>23</td>\n",
       "      <td>3</td>\n",
       "      <td>5</td>\n",
       "      <td>5</td>\n",
       "      <td>5</td>\n",
       "      <td>4.0</td>\n",
       "      <td>58</td>\n",
       "      <td>+18.014</td>\n",
       "      <td>5708630</td>\n",
       "      <td>43</td>\n",
       "      <td>1</td>\n",
       "      <td>1:27.418</td>\n",
       "      <td>218.385</td>\n",
       "      <td>1</td>\n",
       "    </tr>\n",
       "  </tbody>\n",
       "</table>\n",
       "</div>"
      ],
      "text/plain": [
       "   resultId  raceId  driverId  constructorId number  grid position  \\\n",
       "0         1      18         1              1     22     1        1   \n",
       "1         2      18         2              2      3     5        2   \n",
       "2         3      18         3              3      7     7        3   \n",
       "3         4      18         4              4      5    11        4   \n",
       "4         5      18         5              1     23     3        5   \n",
       "\n",
       "  positionText  positionOrder  points  laps         time milliseconds  \\\n",
       "0            1              1    10.0    58  1:34:50.616      5690616   \n",
       "1            2              2     8.0    58       +5.478      5696094   \n",
       "2            3              3     6.0    58       +8.163      5698779   \n",
       "3            4              4     5.0    58      +17.181      5707797   \n",
       "4            5              5     4.0    58      +18.014      5708630   \n",
       "\n",
       "  fastestLap rank fastestLapTime fastestLapSpeed  statusId  \n",
       "0         39    2       1:27.452         218.300         1  \n",
       "1         41    3       1:27.739         217.586         1  \n",
       "2         41    5       1:28.090         216.719         1  \n",
       "3         58    7       1:28.603         215.464         1  \n",
       "4         43    1       1:27.418         218.385         1  "
      ]
     },
     "execution_count": 6,
     "metadata": {},
     "output_type": "execute_result"
    }
   ],
   "source": [
    "# Afficher les 5 premières ligne\n",
    "resultat.head()"
   ]
  },
  {
   "cell_type": "code",
   "execution_count": 7,
   "id": "03c3e85d-107d-4eff-9048-d673b5b03735",
   "metadata": {},
   "outputs": [
    {
     "name": "stdout",
     "output_type": "stream",
     "text": [
      "<class 'pandas.core.frame.DataFrame'>\n",
      "RangeIndex: 26519 entries, 0 to 26518\n",
      "Data columns (total 18 columns):\n",
      " #   Column           Non-Null Count  Dtype  \n",
      "---  ------           --------------  -----  \n",
      " 0   resultId         26519 non-null  int64  \n",
      " 1   raceId           26519 non-null  int64  \n",
      " 2   driverId         26519 non-null  int64  \n",
      " 3   constructorId    26519 non-null  int64  \n",
      " 4   number           26519 non-null  object \n",
      " 5   grid             26519 non-null  int64  \n",
      " 6   position         26519 non-null  object \n",
      " 7   positionText     26519 non-null  object \n",
      " 8   positionOrder    26519 non-null  int64  \n",
      " 9   points           26519 non-null  float64\n",
      " 10  laps             26519 non-null  int64  \n",
      " 11  time             26519 non-null  object \n",
      " 12  milliseconds     26519 non-null  object \n",
      " 13  fastestLap       26519 non-null  object \n",
      " 14  rank             26519 non-null  object \n",
      " 15  fastestLapTime   26519 non-null  object \n",
      " 16  fastestLapSpeed  26519 non-null  object \n",
      " 17  statusId         26519 non-null  int64  \n",
      "dtypes: float64(1), int64(8), object(9)\n",
      "memory usage: 3.6+ MB\n"
     ]
    }
   ],
   "source": [
    "# Description des types de données\n",
    "resultat.info()"
   ]
  },
  {
   "cell_type": "markdown",
   "id": "c777e474-01ed-4131-b995-9ecceebe0358",
   "metadata": {},
   "source": [
    "### Sélection des variables pertinantes"
   ]
  },
  {
   "cell_type": "markdown",
   "id": "641d4294-eb73-4798-83de-b34d0264be2d",
   "metadata": {},
   "source": [
    "Pour analyser l’impact de la météo sur les performances des pilotes, seules les variables directement liées aux résultats et aux performances des courses seront retenues :\n",
    "\n",
    "- resultId, raceId, driverId : Identifiants nécessaires pour relier les performances aux courses, pilotes, et conditions météo.\n",
    "- positionOrder : Représente le classement final, indicateur clé de performance.\n",
    "- points : Évalue le succès global des pilotes sous différentes conditions météorologiques.\n",
    "- laps : Indique le nombre de tours complétés, utile pour détecter les abandons liés aux conditions.\n",
    "- fastestLapTime, fastestLapSpeed : Mesures de performance maximale, permettant d'évaluer l'impact des conditions météo sur la vitesse.\n",
    "- statusId : Permet de suivre les abandons ou incidents, souvent influencés par la météo.\n",
    "\n",
    "Exclusion des autres variables : Les variables comme grid, milliseconds, ou rank sont redondantes ou moins pertinentes pour évaluer directement l’influence de la météo. Des colonnes purement techniques (ex. : number, constructorId) n’apportent pas de valeur analytique pour cet objectif spécifique.\n"
   ]
  },
  {
   "cell_type": "code",
   "execution_count": null,
   "id": "60161688-d143-44b5-a95a-2c07fc832787",
   "metadata": {},
   "outputs": [],
   "source": [
    "resultat_cleaned = resultat[['resultId', 'raceId', 'driverId', 'positionOrder', 'points', 'laps', 'fastestLapTime', 'fastestLapSpeed', 'statusId']]\n",
    "\n",
    "resultat_cleaned.head()"
   ]
  },
  {
   "cell_type": "markdown",
   "id": "8fcbaa12-89fc-4168-8b25-190b13b9fc48",
   "metadata": {},
   "source": [
    "### Analyses des valeurs manquantes"
   ]
  },
  {
   "cell_type": "code",
   "execution_count": 7,
   "id": "f33e8194-f9da-4967-a8e8-78696ec9a016",
   "metadata": {},
   "outputs": [
    {
     "name": "stdout",
     "output_type": "stream",
     "text": [
      "La base de données resultat_cleaned ne contient pas des valeurs manquantes\n"
     ]
    }
   ],
   "source": [
    "check_missing_values(resultat_cleaned, 'resultat_cleaned')"
   ]
  },
  {
   "cell_type": "markdown",
   "id": "50fda93f-956e-48b5-b946-26179df70867",
   "metadata": {},
   "source": [
    "### Analyses des doublons"
   ]
  },
  {
   "cell_type": "code",
   "execution_count": 8,
   "id": "e216b8d3-e639-494d-9805-134b832d51fd",
   "metadata": {},
   "outputs": [
    {
     "name": "stdout",
     "output_type": "stream",
     "text": [
      "resultat_cleaned ne contient pas de doublons.\n"
     ]
    }
   ],
   "source": [
    "check_duplicates(resultat_cleaned, 'resultat_cleaned')"
   ]
  },
  {
   "cell_type": "markdown",
   "id": "85febceb-d38c-4ed3-8942-fc02506f3976",
   "metadata": {},
   "source": [
    "### Enregistrement des données nettoyés dans un fichier csv"
   ]
  },
  {
   "cell_type": "code",
   "execution_count": 11,
   "id": "98eb2be2-d6a0-4cf9-a8dc-a4aefe3c8f48",
   "metadata": {},
   "outputs": [
    {
     "name": "stdout",
     "output_type": "stream",
     "text": [
      "Les données nettoyées ont été enregistrées dans le fichier 'Cleaned_Data/resultat_cleaned.csv'.\n"
     ]
    }
   ],
   "source": [
    "dataset_to_csv(resultat_cleaned, 'resultat_cleaned')"
   ]
  },
  {
   "cell_type": "markdown",
   "id": "8f692dff-b1e7-4e3f-9849-a05bb38fd66f",
   "metadata": {},
   "source": [
    "## 7. Nettoyage de la base de données laps_times"
   ]
  },
  {
   "cell_type": "markdown",
   "id": "b95bda1b-6a54-4525-9184-b224e7ef56e4",
   "metadata": {},
   "source": [
    "### Vérification des types de données"
   ]
  },
  {
   "cell_type": "code",
   "execution_count": 17,
   "id": "56e1e985-54ba-4013-9154-010a3c9ead34",
   "metadata": {},
   "outputs": [
    {
     "data": {
      "text/html": [
       "<div>\n",
       "<style scoped>\n",
       "    .dataframe tbody tr th:only-of-type {\n",
       "        vertical-align: middle;\n",
       "    }\n",
       "\n",
       "    .dataframe tbody tr th {\n",
       "        vertical-align: top;\n",
       "    }\n",
       "\n",
       "    .dataframe thead th {\n",
       "        text-align: right;\n",
       "    }\n",
       "</style>\n",
       "<table border=\"1\" class=\"dataframe\">\n",
       "  <thead>\n",
       "    <tr style=\"text-align: right;\">\n",
       "      <th></th>\n",
       "      <th>raceId</th>\n",
       "      <th>driverId</th>\n",
       "      <th>lap</th>\n",
       "      <th>position</th>\n",
       "      <th>time</th>\n",
       "      <th>milliseconds</th>\n",
       "    </tr>\n",
       "  </thead>\n",
       "  <tbody>\n",
       "    <tr>\n",
       "      <th>575024</th>\n",
       "      <td>1131</td>\n",
       "      <td>858</td>\n",
       "      <td>65</td>\n",
       "      <td>19</td>\n",
       "      <td>1:10.742</td>\n",
       "      <td>70742</td>\n",
       "    </tr>\n",
       "    <tr>\n",
       "      <th>575025</th>\n",
       "      <td>1131</td>\n",
       "      <td>858</td>\n",
       "      <td>66</td>\n",
       "      <td>19</td>\n",
       "      <td>1:10.855</td>\n",
       "      <td>70855</td>\n",
       "    </tr>\n",
       "    <tr>\n",
       "      <th>575026</th>\n",
       "      <td>1131</td>\n",
       "      <td>858</td>\n",
       "      <td>67</td>\n",
       "      <td>19</td>\n",
       "      <td>1:12.454</td>\n",
       "      <td>72454</td>\n",
       "    </tr>\n",
       "    <tr>\n",
       "      <th>575027</th>\n",
       "      <td>1131</td>\n",
       "      <td>858</td>\n",
       "      <td>68</td>\n",
       "      <td>19</td>\n",
       "      <td>1:13.607</td>\n",
       "      <td>73607</td>\n",
       "    </tr>\n",
       "    <tr>\n",
       "      <th>575028</th>\n",
       "      <td>1131</td>\n",
       "      <td>858</td>\n",
       "      <td>69</td>\n",
       "      <td>19</td>\n",
       "      <td>1:11.489</td>\n",
       "      <td>71489</td>\n",
       "    </tr>\n",
       "  </tbody>\n",
       "</table>\n",
       "</div>"
      ],
      "text/plain": [
       "        raceId  driverId  lap  position      time  milliseconds\n",
       "575024    1131       858   65        19  1:10.742         70742\n",
       "575025    1131       858   66        19  1:10.855         70855\n",
       "575026    1131       858   67        19  1:12.454         72454\n",
       "575027    1131       858   68        19  1:13.607         73607\n",
       "575028    1131       858   69        19  1:11.489         71489"
      ]
     },
     "execution_count": 17,
     "metadata": {},
     "output_type": "execute_result"
    }
   ],
   "source": [
    "# Afficher les 5 premières lignes\n",
    "laps_times.head()"
   ]
  },
  {
   "cell_type": "code",
   "execution_count": 16,
   "id": "589211fb-2966-4816-a3ce-61f195d62b9a",
   "metadata": {},
   "outputs": [
    {
     "name": "stdout",
     "output_type": "stream",
     "text": [
      "<class 'pandas.core.frame.DataFrame'>\n",
      "RangeIndex: 575029 entries, 0 to 575028\n",
      "Data columns (total 6 columns):\n",
      " #   Column        Non-Null Count   Dtype \n",
      "---  ------        --------------   ----- \n",
      " 0   raceId        575029 non-null  int64 \n",
      " 1   driverId      575029 non-null  int64 \n",
      " 2   lap           575029 non-null  int64 \n",
      " 3   position      575029 non-null  int64 \n",
      " 4   time          575029 non-null  object\n",
      " 5   milliseconds  575029 non-null  int64 \n",
      "dtypes: int64(5), object(1)\n",
      "memory usage: 26.3+ MB\n"
     ]
    }
   ],
   "source": [
    "## Affiche les infomations sur chaque variable\n",
    "laps_times.info()"
   ]
  },
  {
   "cell_type": "markdown",
   "id": "213fcde9-fee8-4543-9f93-d474c6dc0a41",
   "metadata": {},
   "source": [
    "### Analyse des valeurs manquantes"
   ]
  },
  {
   "cell_type": "code",
   "execution_count": 18,
   "id": "8a4913b2-d8a7-42e0-bf40-8e9ae4c1b22d",
   "metadata": {},
   "outputs": [
    {
     "name": "stdout",
     "output_type": "stream",
     "text": [
      "La base de données laps_times ne contient pas des valeurs manquantes\n"
     ]
    }
   ],
   "source": [
    "check_missing_values(laps_times, 'laps_times')"
   ]
  },
  {
   "cell_type": "markdown",
   "id": "7212a199-185e-4cb0-b91f-bb386b4bd29a",
   "metadata": {},
   "source": [
    "### Analyse des doublons"
   ]
  },
  {
   "cell_type": "code",
   "execution_count": 19,
   "id": "6811a34a-22e1-44e2-bc76-d9e0b9af7f77",
   "metadata": {},
   "outputs": [
    {
     "name": "stdout",
     "output_type": "stream",
     "text": [
      "laps_times ne contient pas de doublons.\n"
     ]
    }
   ],
   "source": [
    "check_duplicates(laps_times, 'laps_times')"
   ]
  },
  {
   "cell_type": "markdown",
   "id": "04dee628-b7bc-4b0f-be85-11445be50120",
   "metadata": {},
   "source": [
    "### Enregistrement des données nettoyés dans un fichier csv"
   ]
  },
  {
   "cell_type": "code",
   "execution_count": 22,
   "id": "ef00572c-05ab-4e8d-b0d9-bfdeb451c488",
   "metadata": {},
   "outputs": [
    {
     "name": "stdout",
     "output_type": "stream",
     "text": [
      "Les données nettoyées ont été enregistrées dans le fichier 'Cleaned_Data/laps_times_cleaned.csv'.\n"
     ]
    }
   ],
   "source": [
    "dataset_to_csv(laps_times, 'laps_times_cleaned')"
   ]
  },
  {
   "cell_type": "markdown",
   "id": "be4c75f5-d268-44c2-a3a6-fddf853e1055",
   "metadata": {},
   "source": [
    "## 8. Nettoyage de la base de données status"
   ]
  },
  {
   "cell_type": "markdown",
   "id": "5d27cc8d-e8c6-4ab6-942d-4bc132e9d73f",
   "metadata": {},
   "source": [
    "### Vérification des types de données"
   ]
  },
  {
   "cell_type": "code",
   "execution_count": 26,
   "id": "5fe23250-959a-499b-9d2a-b450f77d8156",
   "metadata": {},
   "outputs": [
    {
     "data": {
      "text/html": [
       "<div>\n",
       "<style scoped>\n",
       "    .dataframe tbody tr th:only-of-type {\n",
       "        vertical-align: middle;\n",
       "    }\n",
       "\n",
       "    .dataframe tbody tr th {\n",
       "        vertical-align: top;\n",
       "    }\n",
       "\n",
       "    .dataframe thead th {\n",
       "        text-align: right;\n",
       "    }\n",
       "</style>\n",
       "<table border=\"1\" class=\"dataframe\">\n",
       "  <thead>\n",
       "    <tr style=\"text-align: right;\">\n",
       "      <th></th>\n",
       "      <th>statusId</th>\n",
       "      <th>status</th>\n",
       "    </tr>\n",
       "  </thead>\n",
       "  <tbody>\n",
       "    <tr>\n",
       "      <th>0</th>\n",
       "      <td>1</td>\n",
       "      <td>Finished</td>\n",
       "    </tr>\n",
       "    <tr>\n",
       "      <th>1</th>\n",
       "      <td>2</td>\n",
       "      <td>Disqualified</td>\n",
       "    </tr>\n",
       "    <tr>\n",
       "      <th>2</th>\n",
       "      <td>3</td>\n",
       "      <td>Accident</td>\n",
       "    </tr>\n",
       "    <tr>\n",
       "      <th>3</th>\n",
       "      <td>4</td>\n",
       "      <td>Collision</td>\n",
       "    </tr>\n",
       "    <tr>\n",
       "      <th>4</th>\n",
       "      <td>5</td>\n",
       "      <td>Engine</td>\n",
       "    </tr>\n",
       "  </tbody>\n",
       "</table>\n",
       "</div>"
      ],
      "text/plain": [
       "   statusId        status\n",
       "0         1      Finished\n",
       "1         2  Disqualified\n",
       "2         3      Accident\n",
       "3         4     Collision\n",
       "4         5        Engine"
      ]
     },
     "execution_count": 26,
     "metadata": {},
     "output_type": "execute_result"
    }
   ],
   "source": [
    "# Afficher les premières lignes\n",
    "status.head()"
   ]
  },
  {
   "cell_type": "code",
   "execution_count": 27,
   "id": "fbe4ab39-2d58-4952-be06-0e068d71f8e8",
   "metadata": {},
   "outputs": [
    {
     "name": "stdout",
     "output_type": "stream",
     "text": [
      "<class 'pandas.core.frame.DataFrame'>\n",
      "RangeIndex: 139 entries, 0 to 138\n",
      "Data columns (total 2 columns):\n",
      " #   Column    Non-Null Count  Dtype \n",
      "---  ------    --------------  ----- \n",
      " 0   statusId  139 non-null    int64 \n",
      " 1   status    139 non-null    object\n",
      "dtypes: int64(1), object(1)\n",
      "memory usage: 2.3+ KB\n"
     ]
    }
   ],
   "source": [
    "## Afficher les informations sur les variables\n",
    "status.info()"
   ]
  },
  {
   "cell_type": "markdown",
   "id": "71c598c0-354e-44da-aef9-abbd320c626f",
   "metadata": {},
   "source": [
    "### Analyse des valeurs manquantes"
   ]
  },
  {
   "cell_type": "code",
   "execution_count": 29,
   "id": "2ba76d1a-1cae-4ee7-92ad-e6081c3b41f5",
   "metadata": {},
   "outputs": [
    {
     "name": "stdout",
     "output_type": "stream",
     "text": [
      "La base de données status ne contient pas des valeurs manquantes\n"
     ]
    }
   ],
   "source": [
    "check_missing_values(status, 'status')"
   ]
  },
  {
   "cell_type": "markdown",
   "id": "d57f1d89-a9f2-4a28-bc46-c9bc2109ce30",
   "metadata": {},
   "source": [
    "### Analyse des doublons"
   ]
  },
  {
   "cell_type": "code",
   "execution_count": 30,
   "id": "d71947cd-a3db-41ac-aefb-503ec9c38099",
   "metadata": {},
   "outputs": [
    {
     "name": "stdout",
     "output_type": "stream",
     "text": [
      "status ne contient pas de doublons.\n"
     ]
    }
   ],
   "source": [
    "check_duplicates(status, 'status')"
   ]
  },
  {
   "cell_type": "markdown",
   "id": "6e7c65a6-1601-4445-b9a7-7a46076401f8",
   "metadata": {},
   "source": [
    "### Affichage des differents status"
   ]
  },
  {
   "cell_type": "code",
   "execution_count": 40,
   "id": "133e0d8c-845f-45bd-b9a7-818519e39595",
   "metadata": {},
   "outputs": [
    {
     "name": "stdout",
     "output_type": "stream",
     "text": [
      "139\n",
      "['Finished' 'Disqualified' 'Accident' 'Collision' 'Engine' 'Gearbox'\n",
      " 'Transmission' 'Clutch' 'Hydraulics' 'Electrical' '+1 Lap' '+2 Laps'\n",
      " '+3 Laps' '+4 Laps' '+5 Laps' '+6 Laps' '+7 Laps' '+8 Laps' '+9 Laps'\n",
      " 'Spun off' 'Radiator' 'Suspension' 'Brakes' 'Differential' 'Overheating'\n",
      " 'Mechanical' 'Tyre' 'Driver Seat' 'Puncture' 'Driveshaft' 'Retired'\n",
      " 'Fuel pressure' 'Front wing' 'Water pressure' 'Refuelling' 'Wheel'\n",
      " 'Throttle' 'Steering' 'Technical' 'Electronics' 'Broken wing'\n",
      " 'Heat shield fire' 'Exhaust' 'Oil leak' '+11 Laps' 'Wheel rim'\n",
      " 'Water leak' 'Fuel pump' 'Track rod' '+17 Laps' 'Oil pressure' '+42 Laps'\n",
      " '+13 Laps' 'Withdrew' '+12 Laps' 'Engine fire' 'Engine misfire'\n",
      " '+26 Laps' 'Tyre puncture' 'Out of fuel' 'Wheel nut' 'Not classified'\n",
      " 'Pneumatics' 'Handling' 'Rear wing' 'Fire' 'Wheel bearing' 'Physical'\n",
      " 'Fuel system' 'Oil line' 'Fuel rig' 'Launch control' 'Injured' 'Fuel'\n",
      " 'Power loss' 'Vibrations' '107% Rule' 'Safety' 'Drivetrain' 'Ignition'\n",
      " 'Did not qualify' 'Injury' 'Chassis' 'Battery' 'Stalled' 'Halfshaft'\n",
      " 'Crankshaft' '+10 Laps' 'Safety concerns' 'Not restarted' 'Alternator'\n",
      " 'Underweight' 'Safety belt' 'Oil pump' 'Fuel leak' 'Excluded'\n",
      " 'Did not prequalify' 'Injection' 'Distributor' 'Driver unwell' 'Turbo'\n",
      " 'CV joint' 'Water pump' 'Fatal accident' 'Spark plugs' 'Fuel pipe'\n",
      " 'Eye injury' 'Oil pipe' 'Axle' 'Water pipe' '+14 Laps' '+15 Laps'\n",
      " '+25 Laps' '+18 Laps' '+22 Laps' '+16 Laps' '+24 Laps' '+29 Laps'\n",
      " '+23 Laps' '+21 Laps' 'Magneto' '+44 Laps' '+30 Laps' '+19 Laps'\n",
      " '+46 Laps' 'Supercharger' '+20 Laps' 'Collision damage' 'Power Unit'\n",
      " 'ERS' '+49 Laps' '+38 Laps' 'Brake duct' 'Seat' 'Damage' 'Debris'\n",
      " 'Illness' 'Undertray' 'Cooling system']\n"
     ]
    }
   ],
   "source": [
    "print(status['status'].unique().shape[0])\n",
    "print(status['status'].unique())"
   ]
  },
  {
   "cell_type": "markdown",
   "id": "dd2672bd-d8da-42b3-8eb2-bef3aa816c3c",
   "metadata": {},
   "source": [
    "### Enregistrement des données nettoyés dans un fichier csv"
   ]
  },
  {
   "cell_type": "code",
   "execution_count": 42,
   "id": "78dfad1a-5aac-430c-bc39-c194776263bd",
   "metadata": {},
   "outputs": [
    {
     "name": "stdout",
     "output_type": "stream",
     "text": [
      "Les données nettoyées ont été enregistrées dans le fichier 'Cleaned_Data/status_cleaned.csv'.\n"
     ]
    }
   ],
   "source": [
    "dataset_to_csv(status, 'status_cleaned')"
   ]
  }
 ],
 "metadata": {
  "kernelspec": {
   "display_name": "Python 3 (ipykernel)",
   "language": "python",
   "name": "python3"
  },
  "language_info": {
   "codemirror_mode": {
    "name": "ipython",
    "version": 3
   },
   "file_extension": ".py",
   "mimetype": "text/x-python",
   "name": "python",
   "nbconvert_exporter": "python",
   "pygments_lexer": "ipython3",
   "version": "3.11.7"
  }
 },
 "nbformat": 4,
 "nbformat_minor": 5
}
