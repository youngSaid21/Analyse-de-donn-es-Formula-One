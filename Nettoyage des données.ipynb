{
 "cells": [
  {
   "cell_type": "markdown",
   "id": "4d907cac-778a-4a65-b601-ecc05426421c",
   "metadata": {},
   "source": [
    "# Nettoyage des données de Formula 1"
   ]
  },
  {
   "cell_type": "markdown",
   "id": "a699fa35-1b80-435b-969a-52a54b0f4b0b",
   "metadata": {},
   "source": [
    "## 1. Objectifs du Notebook\n",
    "Ce notebook a pour objectif principal de préparer les données de Formula 1 en vue d’analyses approfondies. Le dataset couvre une période allant de 1950 à 2024, incluant divers aspects tels que les circuits, les pilotes, les classements, les résultats, et bien plus. Pour garantir la fiabilité des analyses, plusieurs tâches de nettoyage des données seront effectuées :\n",
    "\n",
    "#### Validation des types de données :\n",
    "\n",
    "- Vérifier que chaque colonne utilise un type de données approprié (numérique, catégoriel, etc.).\n",
    "\n",
    "\n",
    "#### Identification et gestion des valeurs manquantes :\n",
    "\n",
    "- Repérer les colonnes ou lignes contenant des données manquantes et appliquer des stratégies adaptées (suppression ou imputation).\n",
    "  \n",
    "#### Traitement des doublons :\n",
    "\n",
    "- Vérifier l’existence de doublons dans les fichiers et les éliminer pour éviter les biais dans les analyses.\n",
    "\n",
    "#### Gestion des incohérences :\n",
    "\n",
    "- Identifier et corriger les éventuelles incohérences dans les données (par exemple, une valeur qui sort du bon intervalle).\n",
    "\n",
    "#### Uniformisation des formats :\n",
    "\n",
    "- Harmoniser les formats des dates, heures, noms, et autres champs pour assurer la cohérence des données.\n",
    "\n",
    "Le but final est de produire un jeu de données propre, structuré et prêt pour des analyses exploratoires ou la construction de modèles de machine learning."
   ]
  },
  {
   "cell_type": "markdown",
   "id": "2877d3f4-0457-4d1f-be2b-f31cd3f6c3c2",
   "metadata": {},
   "source": [
    "## 2. Importation des packages"
   ]
  },
  {
   "cell_type": "code",
   "execution_count": 1,
   "id": "0f7af4ca-01ee-4cf4-b9d8-d875087460bc",
   "metadata": {},
   "outputs": [],
   "source": [
    "import pandas as pd\n",
    "import seaborn as sns"
   ]
  },
  {
   "cell_type": "markdown",
   "id": "31ac7ad0-50dd-4020-859c-f7ca846fe6d7",
   "metadata": {},
   "source": [
    "## 3. Chargement des données"
   ]
  },
  {
   "cell_type": "code",
   "execution_count": 24,
   "id": "54f869db-c61c-4658-b53c-f4b9ea7b0943",
   "metadata": {},
   "outputs": [
    {
     "name": "stdout",
     "output_type": "stream",
     "text": [
      "Dimensions de 'meteo' : (21859, 10)\n",
      "Dimensions de 'courses' : (1125, 18)\n",
      "Dimensions de 'pilotes' : (859, 9)\n",
      "Dimensions de 'resultats' : (26519, 18)\n",
      "Dimensions de 'laps_times' : (575029, 6)\n"
     ]
    }
   ],
   "source": [
    "# Chargement des données \n",
    "meteo = pd.read_csv('Data/Weather(2018 - 2024).csv')\n",
    "courses = pd.read_csv('Data/races.csv')\n",
    "pilotes = pd.read_csv('Data/drivers.csv')\n",
    "resultat = pd.read_csv('Data/results.csv')\n",
    "laps_times = pd.read_csv('Data/lap_times.csv')\n",
    "\n",
    "# Afficher les dimensions de chaque dataset\n",
    "print(\"Dimensions de 'meteo' :\", meteo.shape)\n",
    "print(\"Dimensions de 'courses' :\", courses.shape)\n",
    "print(\"Dimensions de 'pilotes' :\", pilotes.shape)\n",
    "print(\"Dimensions de 'resultats' :\", resultat.shape)\n",
    "print(\"Dimensions de 'laps_times' :\", laps_times.shape)"
   ]
  },
  {
   "cell_type": "markdown",
   "id": "1d560b6b-a7bb-406c-90a1-f791cdfbe5f7",
   "metadata": {},
   "source": [
    "## 4. Nettoyage de la base de données Météo"
   ]
  },
  {
   "cell_type": "code",
   "execution_count": 3,
   "id": "6d0b7c78-c7f1-4172-a4ba-c0c652ab95b6",
   "metadata": {},
   "outputs": [
    {
     "data": {
      "text/html": [
       "<div>\n",
       "<style scoped>\n",
       "    .dataframe tbody tr th:only-of-type {\n",
       "        vertical-align: middle;\n",
       "    }\n",
       "\n",
       "    .dataframe tbody tr th {\n",
       "        vertical-align: top;\n",
       "    }\n",
       "\n",
       "    .dataframe thead th {\n",
       "        text-align: right;\n",
       "    }\n",
       "</style>\n",
       "<table border=\"1\" class=\"dataframe\">\n",
       "  <thead>\n",
       "    <tr style=\"text-align: right;\">\n",
       "      <th></th>\n",
       "      <th>Time</th>\n",
       "      <th>AirTemp</th>\n",
       "      <th>Humidity</th>\n",
       "      <th>Pressure</th>\n",
       "      <th>Rainfall</th>\n",
       "      <th>TrackTemp</th>\n",
       "      <th>WindDirection</th>\n",
       "      <th>WindSpeed</th>\n",
       "      <th>Round Number</th>\n",
       "      <th>Year</th>\n",
       "    </tr>\n",
       "  </thead>\n",
       "  <tbody>\n",
       "    <tr>\n",
       "      <th>0</th>\n",
       "      <td>0 days 00:00:57.060000</td>\n",
       "      <td>24.1</td>\n",
       "      <td>36.2</td>\n",
       "      <td>997.1</td>\n",
       "      <td>False</td>\n",
       "      <td>38.2</td>\n",
       "      <td>294</td>\n",
       "      <td>3.0</td>\n",
       "      <td>1</td>\n",
       "      <td>2018</td>\n",
       "    </tr>\n",
       "    <tr>\n",
       "      <th>1</th>\n",
       "      <td>0 days 00:01:57.078000</td>\n",
       "      <td>24.0</td>\n",
       "      <td>36.3</td>\n",
       "      <td>997.1</td>\n",
       "      <td>False</td>\n",
       "      <td>38.6</td>\n",
       "      <td>273</td>\n",
       "      <td>1.4</td>\n",
       "      <td>1</td>\n",
       "      <td>2018</td>\n",
       "    </tr>\n",
       "    <tr>\n",
       "      <th>2</th>\n",
       "      <td>0 days 00:02:57.090000</td>\n",
       "      <td>24.0</td>\n",
       "      <td>36.3</td>\n",
       "      <td>997.1</td>\n",
       "      <td>False</td>\n",
       "      <td>38.6</td>\n",
       "      <td>273</td>\n",
       "      <td>1.4</td>\n",
       "      <td>1</td>\n",
       "      <td>2018</td>\n",
       "    </tr>\n",
       "    <tr>\n",
       "      <th>3</th>\n",
       "      <td>0 days 00:03:57.106000</td>\n",
       "      <td>23.9</td>\n",
       "      <td>37.2</td>\n",
       "      <td>997.0</td>\n",
       "      <td>False</td>\n",
       "      <td>38.7</td>\n",
       "      <td>287</td>\n",
       "      <td>2.3</td>\n",
       "      <td>1</td>\n",
       "      <td>2018</td>\n",
       "    </tr>\n",
       "    <tr>\n",
       "      <th>4</th>\n",
       "      <td>0 days 00:04:57.121000</td>\n",
       "      <td>24.2</td>\n",
       "      <td>35.8</td>\n",
       "      <td>997.1</td>\n",
       "      <td>False</td>\n",
       "      <td>38.7</td>\n",
       "      <td>309</td>\n",
       "      <td>3.5</td>\n",
       "      <td>1</td>\n",
       "      <td>2018</td>\n",
       "    </tr>\n",
       "  </tbody>\n",
       "</table>\n",
       "</div>"
      ],
      "text/plain": [
       "                     Time  AirTemp  Humidity  Pressure  Rainfall  TrackTemp  \\\n",
       "0  0 days 00:00:57.060000     24.1      36.2     997.1     False       38.2   \n",
       "1  0 days 00:01:57.078000     24.0      36.3     997.1     False       38.6   \n",
       "2  0 days 00:02:57.090000     24.0      36.3     997.1     False       38.6   \n",
       "3  0 days 00:03:57.106000     23.9      37.2     997.0     False       38.7   \n",
       "4  0 days 00:04:57.121000     24.2      35.8     997.1     False       38.7   \n",
       "\n",
       "   WindDirection  WindSpeed  Round Number  Year  \n",
       "0            294        3.0             1  2018  \n",
       "1            273        1.4             1  2018  \n",
       "2            273        1.4             1  2018  \n",
       "3            287        2.3             1  2018  \n",
       "4            309        3.5             1  2018  "
      ]
     },
     "execution_count": 3,
     "metadata": {},
     "output_type": "execute_result"
    }
   ],
   "source": [
    "## Affichages des 5 premières lignes\n",
    "meteo.head(5)"
   ]
  },
  {
   "cell_type": "code",
   "execution_count": 4,
   "id": "1edcefda-848a-49d9-9f78-fa282b739021",
   "metadata": {
    "scrolled": true
   },
   "outputs": [
    {
     "name": "stdout",
     "output_type": "stream",
     "text": [
      "<class 'pandas.core.frame.DataFrame'>\n",
      "RangeIndex: 21859 entries, 0 to 21858\n",
      "Data columns (total 10 columns):\n",
      " #   Column         Non-Null Count  Dtype  \n",
      "---  ------         --------------  -----  \n",
      " 0   Time           21859 non-null  object \n",
      " 1   AirTemp        21859 non-null  float64\n",
      " 2   Humidity       21859 non-null  float64\n",
      " 3   Pressure       21859 non-null  float64\n",
      " 4   Rainfall       21859 non-null  bool   \n",
      " 5   TrackTemp      21859 non-null  float64\n",
      " 6   WindDirection  21859 non-null  int64  \n",
      " 7   WindSpeed      21859 non-null  float64\n",
      " 8   Round Number   21859 non-null  int64  \n",
      " 9   Year           21859 non-null  int64  \n",
      "dtypes: bool(1), float64(5), int64(3), object(1)\n",
      "memory usage: 1.5+ MB\n"
     ]
    }
   ],
   "source": [
    "## Vérification des types des données\n",
    "meteo.info()"
   ]
  },
  {
   "cell_type": "markdown",
   "id": "01a05970-09bd-4432-a319-05310a74e4c1",
   "metadata": {},
   "source": [
    "### Vérification des données manquantes"
   ]
  },
  {
   "cell_type": "code",
   "execution_count": 5,
   "id": "b6ffabac-f7a7-4a52-a0f8-68e69329cb1f",
   "metadata": {},
   "outputs": [
    {
     "name": "stdout",
     "output_type": "stream",
     "text": [
      "La base de données Météo ne contient pas des valeurs manquantes\n"
     ]
    }
   ],
   "source": [
    "# Fonction qui vérifie s'il y a des valeurs manquantes dans un dataset\n",
    "def check_missing_values(df, dataset_name=\"Dataset\"):\n",
    "    if df.isnull().sum().sum() == 0 :\n",
    "        print(f'La base de données {dataset_name} ne contient pas des valeurs manquantes')\n",
    "    else:\n",
    "        print(f'La base de données {dataset_name} contient {df.isnull().sum().sum()} valeur(s) manquante(s)')\n",
    "\n",
    "check_missing_values(meteo, 'Météo')"
   ]
  },
  {
   "cell_type": "markdown",
   "id": "264a2492-038a-495e-a27c-e6f7379be0c7",
   "metadata": {},
   "source": [
    "### Vérification des doublons"
   ]
  },
  {
   "cell_type": "code",
   "execution_count": 6,
   "id": "6d6f9302-ed21-449a-b401-f8a22740b74d",
   "metadata": {},
   "outputs": [
    {
     "name": "stdout",
     "output_type": "stream",
     "text": [
      "Météo contient 481 doublon(s).\n"
     ]
    }
   ],
   "source": [
    "# Fonction qui vérifie s'il y a des doublons dans un dataset\n",
    "def check_duplicates(df, dataset_name=\"Dataset\"):\n",
    "    duplicates = df.duplicated().sum()  # Compter le nombre de doublons\n",
    "    if duplicates > 0:\n",
    "        print(f\"{dataset_name} contient {duplicates} doublon(s).\")\n",
    "    else:\n",
    "        print(f\"{dataset_name} ne contient pas de doublons.\")\n",
    "\n",
    "check_duplicates(meteo, 'Météo')"
   ]
  },
  {
   "cell_type": "code",
   "execution_count": 7,
   "id": "147b4b74-8dc0-42e6-9ee5-eabef9705b8c",
   "metadata": {},
   "outputs": [],
   "source": [
    "# Suppression des doublons\n",
    "def remove_duplicates(df):\n",
    "    return df.drop_duplicates()\n",
    "\n",
    "meteo_cleaned = remove_duplicates(meteo)"
   ]
  },
  {
   "cell_type": "code",
   "execution_count": 8,
   "id": "89d3f424-af0d-493a-ba4b-efbff1de5d45",
   "metadata": {},
   "outputs": [
    {
     "name": "stdout",
     "output_type": "stream",
     "text": [
      "Météo ne contient pas de doublons.\n"
     ]
    }
   ],
   "source": [
    "# Vérification des la suppression des doublons\n",
    "check_duplicates(meteo_cleaned, 'Météo')"
   ]
  },
  {
   "cell_type": "markdown",
   "id": "156496a7-edd8-4866-a612-3e5757602f49",
   "metadata": {},
   "source": [
    "### Vérification des intervalles pour les colonnes numériques"
   ]
  },
  {
   "cell_type": "code",
   "execution_count": 9,
   "id": "f083c3d1-6b22-48ad-a8c8-79076c52d7b7",
   "metadata": {},
   "outputs": [
    {
     "data": {
      "text/html": [
       "<div>\n",
       "<style scoped>\n",
       "    .dataframe tbody tr th:only-of-type {\n",
       "        vertical-align: middle;\n",
       "    }\n",
       "\n",
       "    .dataframe tbody tr th {\n",
       "        vertical-align: top;\n",
       "    }\n",
       "\n",
       "    .dataframe thead th {\n",
       "        text-align: right;\n",
       "    }\n",
       "</style>\n",
       "<table border=\"1\" class=\"dataframe\">\n",
       "  <thead>\n",
       "    <tr style=\"text-align: right;\">\n",
       "      <th></th>\n",
       "      <th>AirTemp</th>\n",
       "      <th>Humidity</th>\n",
       "      <th>Pressure</th>\n",
       "      <th>TrackTemp</th>\n",
       "      <th>WindDirection</th>\n",
       "      <th>WindSpeed</th>\n",
       "      <th>Round Number</th>\n",
       "      <th>Year</th>\n",
       "    </tr>\n",
       "  </thead>\n",
       "  <tbody>\n",
       "    <tr>\n",
       "      <th>count</th>\n",
       "      <td>21378.000000</td>\n",
       "      <td>21378.000000</td>\n",
       "      <td>21378.000000</td>\n",
       "      <td>21378.000000</td>\n",
       "      <td>21378.000000</td>\n",
       "      <td>21378.000000</td>\n",
       "      <td>21378.000000</td>\n",
       "      <td>21378.000000</td>\n",
       "    </tr>\n",
       "    <tr>\n",
       "      <th>mean</th>\n",
       "      <td>23.471181</td>\n",
       "      <td>54.709664</td>\n",
       "      <td>986.793068</td>\n",
       "      <td>35.224815</td>\n",
       "      <td>173.404107</td>\n",
       "      <td>1.637702</td>\n",
       "      <td>11.524652</td>\n",
       "      <td>2021.365656</td>\n",
       "    </tr>\n",
       "    <tr>\n",
       "      <th>std</th>\n",
       "      <td>4.988278</td>\n",
       "      <td>17.379909</td>\n",
       "      <td>50.957704</td>\n",
       "      <td>9.251853</td>\n",
       "      <td>104.043864</td>\n",
       "      <td>1.148441</td>\n",
       "      <td>6.302429</td>\n",
       "      <td>1.964110</td>\n",
       "    </tr>\n",
       "    <tr>\n",
       "      <th>min</th>\n",
       "      <td>8.900000</td>\n",
       "      <td>5.000000</td>\n",
       "      <td>778.500000</td>\n",
       "      <td>13.800000</td>\n",
       "      <td>0.000000</td>\n",
       "      <td>0.000000</td>\n",
       "      <td>1.000000</td>\n",
       "      <td>2018.000000</td>\n",
       "    </tr>\n",
       "    <tr>\n",
       "      <th>25%</th>\n",
       "      <td>20.000000</td>\n",
       "      <td>42.000000</td>\n",
       "      <td>986.200000</td>\n",
       "      <td>29.000000</td>\n",
       "      <td>95.000000</td>\n",
       "      <td>0.800000</td>\n",
       "      <td>6.000000</td>\n",
       "      <td>2020.000000</td>\n",
       "    </tr>\n",
       "    <tr>\n",
       "      <th>50%</th>\n",
       "      <td>23.200000</td>\n",
       "      <td>55.000000</td>\n",
       "      <td>1006.600000</td>\n",
       "      <td>34.800000</td>\n",
       "      <td>170.000000</td>\n",
       "      <td>1.400000</td>\n",
       "      <td>12.000000</td>\n",
       "      <td>2022.000000</td>\n",
       "    </tr>\n",
       "    <tr>\n",
       "      <th>75%</th>\n",
       "      <td>27.300000</td>\n",
       "      <td>65.775000</td>\n",
       "      <td>1013.700000</td>\n",
       "      <td>42.200000</td>\n",
       "      <td>264.000000</td>\n",
       "      <td>2.200000</td>\n",
       "      <td>17.000000</td>\n",
       "      <td>2023.000000</td>\n",
       "    </tr>\n",
       "    <tr>\n",
       "      <th>max</th>\n",
       "      <td>37.200000</td>\n",
       "      <td>97.500000</td>\n",
       "      <td>1023.500000</td>\n",
       "      <td>67.000000</td>\n",
       "      <td>359.000000</td>\n",
       "      <td>10.100000</td>\n",
       "      <td>24.000000</td>\n",
       "      <td>2024.000000</td>\n",
       "    </tr>\n",
       "  </tbody>\n",
       "</table>\n",
       "</div>"
      ],
      "text/plain": [
       "            AirTemp      Humidity      Pressure     TrackTemp  WindDirection  \\\n",
       "count  21378.000000  21378.000000  21378.000000  21378.000000   21378.000000   \n",
       "mean      23.471181     54.709664    986.793068     35.224815     173.404107   \n",
       "std        4.988278     17.379909     50.957704      9.251853     104.043864   \n",
       "min        8.900000      5.000000    778.500000     13.800000       0.000000   \n",
       "25%       20.000000     42.000000    986.200000     29.000000      95.000000   \n",
       "50%       23.200000     55.000000   1006.600000     34.800000     170.000000   \n",
       "75%       27.300000     65.775000   1013.700000     42.200000     264.000000   \n",
       "max       37.200000     97.500000   1023.500000     67.000000     359.000000   \n",
       "\n",
       "          WindSpeed  Round Number          Year  \n",
       "count  21378.000000  21378.000000  21378.000000  \n",
       "mean       1.637702     11.524652   2021.365656  \n",
       "std        1.148441      6.302429      1.964110  \n",
       "min        0.000000      1.000000   2018.000000  \n",
       "25%        0.800000      6.000000   2020.000000  \n",
       "50%        1.400000     12.000000   2022.000000  \n",
       "75%        2.200000     17.000000   2023.000000  \n",
       "max       10.100000     24.000000   2024.000000  "
      ]
     },
     "execution_count": 9,
     "metadata": {},
     "output_type": "execute_result"
    }
   ],
   "source": [
    "meteo_cleaned.describe()"
   ]
  },
  {
   "cell_type": "markdown",
   "id": "ee6dfbf7-fd91-43b5-9f4e-ea322774e655",
   "metadata": {},
   "source": [
    "Toutes les variables du dataset sont comprises dans des intervalles réalistes, à l'exception de la variable Pressure. \n",
    "\n",
    "Cette dernière présente des valeurs comprises entre 778 et 1023, ce qui est incohérent avec les observations météorologiques réelles. En effet, la pression atmosphérique la plus faible jamais enregistrée est de 879 hPa (source : https://alarmemeteo.ch/blog/la-pression-atmospherique-la-declencheuse-des-vents-et-des-tempetes.html). \n",
    "\n",
    "Par conséquent, dans la suite de ce projet, seules les pressions atmosphériques égales ou supérieures à 900 hPa seront conservées pour garantir une analyse cohérente et fiable."
   ]
  },
  {
   "cell_type": "code",
   "execution_count": 10,
   "id": "6fc09142-fe4c-4cf4-a950-3bbd14a7ce2a",
   "metadata": {},
   "outputs": [
    {
     "data": {
      "text/plain": [
       "4.336886408344389"
      ]
     },
     "execution_count": 10,
     "metadata": {},
     "output_type": "execute_result"
    }
   ],
   "source": [
    "# Proportion des meteo qui ont une pression alterieur inferieur à 950\n",
    "(meteo['Pressure'] < 900).sum() / len(meteo) * 100"
   ]
  },
  {
   "cell_type": "markdown",
   "id": "c7131ca2-3ff1-4548-8ce6-da61fc743ce2",
   "metadata": {},
   "source": [
    "Nous constatons que Environ 4% des courses ont une pression atmospherique inférieur à 900 hPa"
   ]
  },
  {
   "cell_type": "code",
   "execution_count": 11,
   "id": "e43b721c-e6e1-4272-a245-ccf147b20791",
   "metadata": {},
   "outputs": [
    {
     "data": {
      "text/html": [
       "<div>\n",
       "<style scoped>\n",
       "    .dataframe tbody tr th:only-of-type {\n",
       "        vertical-align: middle;\n",
       "    }\n",
       "\n",
       "    .dataframe tbody tr th {\n",
       "        vertical-align: top;\n",
       "    }\n",
       "\n",
       "    .dataframe thead th {\n",
       "        text-align: right;\n",
       "    }\n",
       "</style>\n",
       "<table border=\"1\" class=\"dataframe\">\n",
       "  <thead>\n",
       "    <tr style=\"text-align: right;\">\n",
       "      <th></th>\n",
       "      <th>AirTemp</th>\n",
       "      <th>Humidity</th>\n",
       "      <th>Pressure</th>\n",
       "      <th>TrackTemp</th>\n",
       "      <th>WindDirection</th>\n",
       "      <th>WindSpeed</th>\n",
       "      <th>Round Number</th>\n",
       "      <th>Year</th>\n",
       "    </tr>\n",
       "  </thead>\n",
       "  <tbody>\n",
       "    <tr>\n",
       "      <th>count</th>\n",
       "      <td>18220.000000</td>\n",
       "      <td>18220.000000</td>\n",
       "      <td>18220.000000</td>\n",
       "      <td>18220.000000</td>\n",
       "      <td>18220.000000</td>\n",
       "      <td>18220.000000</td>\n",
       "      <td>18220.000000</td>\n",
       "      <td>18220.000000</td>\n",
       "    </tr>\n",
       "    <tr>\n",
       "      <th>mean</th>\n",
       "      <td>23.661465</td>\n",
       "      <td>55.770692</td>\n",
       "      <td>1003.965368</td>\n",
       "      <td>34.556811</td>\n",
       "      <td>171.775521</td>\n",
       "      <td>1.672849</td>\n",
       "      <td>10.689133</td>\n",
       "      <td>2021.338749</td>\n",
       "    </tr>\n",
       "    <tr>\n",
       "      <th>std</th>\n",
       "      <td>5.085639</td>\n",
       "      <td>17.062601</td>\n",
       "      <td>14.715938</td>\n",
       "      <td>8.795537</td>\n",
       "      <td>105.520129</td>\n",
       "      <td>1.186057</td>\n",
       "      <td>6.047923</td>\n",
       "      <td>1.952609</td>\n",
       "    </tr>\n",
       "    <tr>\n",
       "      <th>min</th>\n",
       "      <td>9.200000</td>\n",
       "      <td>5.000000</td>\n",
       "      <td>959.900000</td>\n",
       "      <td>13.800000</td>\n",
       "      <td>0.000000</td>\n",
       "      <td>0.000000</td>\n",
       "      <td>1.000000</td>\n",
       "      <td>2018.000000</td>\n",
       "    </tr>\n",
       "    <tr>\n",
       "      <th>25%</th>\n",
       "      <td>19.700000</td>\n",
       "      <td>44.000000</td>\n",
       "      <td>995.900000</td>\n",
       "      <td>28.700000</td>\n",
       "      <td>93.000000</td>\n",
       "      <td>0.800000</td>\n",
       "      <td>5.000000</td>\n",
       "      <td>2020.000000</td>\n",
       "    </tr>\n",
       "    <tr>\n",
       "      <th>50%</th>\n",
       "      <td>24.000000</td>\n",
       "      <td>56.000000</td>\n",
       "      <td>1008.500000</td>\n",
       "      <td>34.000000</td>\n",
       "      <td>167.000000</td>\n",
       "      <td>1.400000</td>\n",
       "      <td>11.000000</td>\n",
       "      <td>2022.000000</td>\n",
       "    </tr>\n",
       "    <tr>\n",
       "      <th>75%</th>\n",
       "      <td>27.700000</td>\n",
       "      <td>66.200000</td>\n",
       "      <td>1014.900000</td>\n",
       "      <td>41.000000</td>\n",
       "      <td>263.000000</td>\n",
       "      <td>2.200000</td>\n",
       "      <td>15.000000</td>\n",
       "      <td>2023.000000</td>\n",
       "    </tr>\n",
       "    <tr>\n",
       "      <th>max</th>\n",
       "      <td>37.200000</td>\n",
       "      <td>97.500000</td>\n",
       "      <td>1023.500000</td>\n",
       "      <td>67.000000</td>\n",
       "      <td>359.000000</td>\n",
       "      <td>10.100000</td>\n",
       "      <td>24.000000</td>\n",
       "      <td>2024.000000</td>\n",
       "    </tr>\n",
       "  </tbody>\n",
       "</table>\n",
       "</div>"
      ],
      "text/plain": [
       "            AirTemp      Humidity      Pressure     TrackTemp  WindDirection  \\\n",
       "count  18220.000000  18220.000000  18220.000000  18220.000000   18220.000000   \n",
       "mean      23.661465     55.770692   1003.965368     34.556811     171.775521   \n",
       "std        5.085639     17.062601     14.715938      8.795537     105.520129   \n",
       "min        9.200000      5.000000    959.900000     13.800000       0.000000   \n",
       "25%       19.700000     44.000000    995.900000     28.700000      93.000000   \n",
       "50%       24.000000     56.000000   1008.500000     34.000000     167.000000   \n",
       "75%       27.700000     66.200000   1014.900000     41.000000     263.000000   \n",
       "max       37.200000     97.500000   1023.500000     67.000000     359.000000   \n",
       "\n",
       "          WindSpeed  Round Number          Year  \n",
       "count  18220.000000  18220.000000  18220.000000  \n",
       "mean       1.672849     10.689133   2021.338749  \n",
       "std        1.186057      6.047923      1.952609  \n",
       "min        0.000000      1.000000   2018.000000  \n",
       "25%        0.800000      5.000000   2020.000000  \n",
       "50%        1.400000     11.000000   2022.000000  \n",
       "75%        2.200000     15.000000   2023.000000  \n",
       "max       10.100000     24.000000   2024.000000  "
      ]
     },
     "execution_count": 11,
     "metadata": {},
     "output_type": "execute_result"
    }
   ],
   "source": [
    "# Suppression des valeurs de pression atmosphérique < 950\n",
    "meteo_cleaned = meteo_cleaned[meteo_cleaned['Pressure'] >= 950]\n",
    "\n",
    "# Afficher les 5 premières lignes pour vérifier\n",
    "meteo_cleaned.describe()"
   ]
  },
  {
   "cell_type": "markdown",
   "id": "3cadb80e-2f5e-4df4-868f-d4ad3311fe14",
   "metadata": {},
   "source": [
    "### Enregistrement des données nettoyés dans un fichier csv"
   ]
  },
  {
   "cell_type": "code",
   "execution_count": 22,
   "id": "308ddf0f-34be-4a63-b9fa-77be8b951cc0",
   "metadata": {},
   "outputs": [
    {
     "name": "stdout",
     "output_type": "stream",
     "text": [
      "Les données nettoyées ont été enregistrées dans le fichier 'Cleaned_Data/meteo_cleaned.csv'.\n"
     ]
    }
   ],
   "source": [
    "meteo_cleaned.to_csv('Cleaned_Data/meteo_cleaned.csv', index=False)\n",
    "\n",
    "print(\"Les données nettoyées ont été enregistrées dans le fichier 'Cleaned_Data/meteo_cleaned.csv'.\")"
   ]
  },
  {
   "cell_type": "code",
   "execution_count": null,
   "id": "1f91908c-5532-43b5-baf6-2cca135cd421",
   "metadata": {},
   "outputs": [],
   "source": []
  }
 ],
 "metadata": {
  "kernelspec": {
   "display_name": "Python 3 (ipykernel)",
   "language": "python",
   "name": "python3"
  },
  "language_info": {
   "codemirror_mode": {
    "name": "ipython",
    "version": 3
   },
   "file_extension": ".py",
   "mimetype": "text/x-python",
   "name": "python",
   "nbconvert_exporter": "python",
   "pygments_lexer": "ipython3",
   "version": "3.11.7"
  }
 },
 "nbformat": 4,
 "nbformat_minor": 5
}
